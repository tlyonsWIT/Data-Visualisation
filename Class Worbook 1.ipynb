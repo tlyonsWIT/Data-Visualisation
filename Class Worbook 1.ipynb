{
  "nbformat": 4,
  "nbformat_minor": 0,
  "metadata": {
    "colab": {
      "name": "Untitled8.ipynb",
      "provenance": [],
      "private_outputs": true,
      "authorship_tag": "ABX9TyP9T5PUPwBFod/fBfNnUJcx",
      "include_colab_link": true
    },
    "kernelspec": {
      "name": "python3",
      "display_name": "Python 3"
    }
  },
  "cells": [
    {
      "cell_type": "markdown",
      "metadata": {
        "id": "view-in-github",
        "colab_type": "text"
      },
      "source": [
        "<a href=\"https://colab.research.google.com/github/tlyonsWIT/Data-Visualisation/blob/master/Class%20Worbook%201.ipynb\" target=\"_parent\"><img src=\"https://colab.research.google.com/assets/colab-badge.svg\" alt=\"Open In Colab\"/></a>"
      ]
    },
    {
      "cell_type": "markdown",
      "metadata": {
        "id": "k9DP5fXSEvwv"
      },
      "source": [
        "# Data Visualisation 2020\n",
        "\n",
        "## Zoom Lecture Notebook\n",
        "\n",
        "\n",
        "### Week 1: Tuesday,  Spetember 29"
      ]
    },
    {
      "cell_type": "code",
      "metadata": {
        "id": "4odCCavFEvLn"
      },
      "source": [
        "import numpy as np"
      ],
      "execution_count": null,
      "outputs": []
    },
    {
      "cell_type": "code",
      "metadata": {
        "id": "DbHXc9l3XHgX"
      },
      "source": [
        "F=np.array([5,3,4,2,4,7,3,2,4,6,3,7])\n",
        "F"
      ],
      "execution_count": null,
      "outputs": []
    },
    {
      "cell_type": "code",
      "metadata": {
        "id": "eKfUSeegXN9M"
      },
      "source": [
        "sum(F)"
      ],
      "execution_count": null,
      "outputs": []
    },
    {
      "cell_type": "code",
      "metadata": {
        "id": "DQ16ZmbZXSrK"
      },
      "source": [
        "F/50"
      ],
      "execution_count": null,
      "outputs": []
    },
    {
      "cell_type": "code",
      "metadata": {
        "id": "AYOn5qd9XWlk"
      },
      "source": [
        "sum(F/50)"
      ],
      "execution_count": null,
      "outputs": []
    },
    {
      "cell_type": "markdown",
      "metadata": {
        "id": "GEKDC-EeZaaP"
      },
      "source": [
        "(ii) Faults"
      ]
    },
    {
      "cell_type": "markdown",
      "metadata": {
        "id": "2Ien4nTSZak3"
      },
      "source": [
        ""
      ]
    },
    {
      "cell_type": "code",
      "metadata": {
        "id": "TED2Hm8GZjTN"
      },
      "source": [
        "F=np.array([5,15,11,9,27,4,12])\n",
        "F"
      ],
      "execution_count": null,
      "outputs": []
    },
    {
      "cell_type": "markdown",
      "metadata": {
        "id": "MqxudEWzZavy"
      },
      "source": [
        ""
      ]
    },
    {
      "cell_type": "code",
      "metadata": {
        "id": "iY7eBYJjXak4"
      },
      "source": [
        "sum(F)"
      ],
      "execution_count": null,
      "outputs": []
    },
    {
      "cell_type": "code",
      "metadata": {
        "id": "be4URuZPXrTG"
      },
      "source": [
        "F/83"
      ],
      "execution_count": null,
      "outputs": []
    },
    {
      "cell_type": "markdown",
      "metadata": {
        "id": "qdyBNKGzXsKp"
      },
      "source": [
        "(i) Nominal"
      ]
    },
    {
      "cell_type": "code",
      "metadata": {
        "id": "Muzex2DIX3Db"
      },
      "source": [
        "sum(F/83)"
      ],
      "execution_count": null,
      "outputs": []
    },
    {
      "cell_type": "code",
      "metadata": {
        "id": "feoKI2GWZ7KZ"
      },
      "source": [
        ""
      ],
      "execution_count": null,
      "outputs": []
    },
    {
      "cell_type": "markdown",
      "metadata": {
        "id": "jRp7HPSZFIy6"
      },
      "source": [
        "### Week 1: Thursday, October 01\n",
        "\n",
        "* To calculate the CF and CRF of a the classes in a data set we can use the function __sum()__ and the __numpy__ function __np.cumsum()__.\n",
        "\n",
        "\n",
        "* Here we go through the Test Score Data from the lecture notes.\n",
        "\n",
        "\n",
        "__1.__ First we create the __numpy__ array for the frequencies of each bin. "
      ]
    },
    {
      "cell_type": "code",
      "metadata": {
        "id": "Hmv49X1oFGkg"
      },
      "source": [
        "Scores=np.array([1,1,1,4,4,5,4,5,4,3])"
      ],
      "execution_count": null,
      "outputs": []
    },
    {
      "cell_type": "markdown",
      "metadata": {
        "id": "v7VfvWpkGhDS"
      },
      "source": [
        "__2__ The number of data points $N$ is the __sum()__ of these frequencies."
      ]
    },
    {
      "cell_type": "code",
      "metadata": {
        "id": "Z1deAnDqGf_d"
      },
      "source": [
        "N=sum(Scores)\n",
        "N"
      ],
      "execution_count": null,
      "outputs": []
    },
    {
      "cell_type": "markdown",
      "metadata": {
        "id": "FKzV7aELGtt6"
      },
      "source": [
        "__3.__ The $CF$ of the classes are found using the __numpy__ function __np.cumsum()__ "
      ]
    },
    {
      "cell_type": "code",
      "metadata": {
        "id": "H2CNVilXGsma"
      },
      "source": [
        "CF=np.cumsum(Scores)\n",
        "CF"
      ],
      "execution_count": null,
      "outputs": []
    },
    {
      "cell_type": "markdown",
      "metadata": {
        "id": "XLHFZPa5HCjD"
      },
      "source": [
        "__4.__ The $RCF$ is $CF$ divided by $N$:"
      ]
    },
    {
      "cell_type": "code",
      "metadata": {
        "id": "zdi72wo0HA2A"
      },
      "source": [
        "CF/N"
      ],
      "execution_count": null,
      "outputs": []
    },
    {
      "cell_type": "code",
      "metadata": {
        "id": "aG0eXLDcHODF"
      },
      "source": [
        ""
      ],
      "execution_count": null,
      "outputs": []
    }
  ]
}