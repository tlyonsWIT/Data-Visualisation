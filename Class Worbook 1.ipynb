{
  "nbformat": 4,
  "nbformat_minor": 0,
  "metadata": {
    "colab": {
      "name": "Untitled8.ipynb",
      "provenance": [],
      "private_outputs": true,
      "authorship_tag": "ABX9TyMoguos7KzsOltDZF6ligoP",
      "include_colab_link": true
    },
    "kernelspec": {
      "name": "python3",
      "display_name": "Python 3"
    }
  },
  "cells": [
    {
      "cell_type": "markdown",
      "metadata": {
        "id": "view-in-github",
        "colab_type": "text"
      },
      "source": [
        "<a href=\"https://colab.research.google.com/github/tlyonsWIT/Data-Visualisation/blob/master/Class%20Worbook%201.ipynb\" target=\"_parent\"><img src=\"https://colab.research.google.com/assets/colab-badge.svg\" alt=\"Open In Colab\"/></a>"
      ]
    },
    {
      "cell_type": "markdown",
      "metadata": {
        "id": "k9DP5fXSEvwv"
      },
      "source": [
        "# Data Visualisation 2020\n",
        "\n",
        "## Zoom Lecture Notebook\n",
        "\n",
        "\n",
        "### Week 1: Tuesday,  Spetember 29"
      ]
    },
    {
      "cell_type": "code",
      "metadata": {
        "id": "4odCCavFEvLn"
      },
      "source": [
        "import numpy as np"
      ],
      "execution_count": null,
      "outputs": []
    },
    {
      "cell_type": "code",
      "metadata": {
        "id": "DbHXc9l3XHgX"
      },
      "source": [
        "F=np.array([5,3,4,2,4,7,3,2,4,6,3,7])\n",
        "F"
      ],
      "execution_count": null,
      "outputs": []
    },
    {
      "cell_type": "code",
      "metadata": {
        "id": "eKfUSeegXN9M"
      },
      "source": [
        "sum(F)"
      ],
      "execution_count": null,
      "outputs": []
    },
    {
      "cell_type": "code",
      "metadata": {
        "id": "DQ16ZmbZXSrK"
      },
      "source": [
        "F/50"
      ],
      "execution_count": null,
      "outputs": []
    },
    {
      "cell_type": "code",
      "metadata": {
        "id": "AYOn5qd9XWlk"
      },
      "source": [
        "sum(F/50)"
      ],
      "execution_count": null,
      "outputs": []
    },
    {
      "cell_type": "markdown",
      "metadata": {
        "id": "GEKDC-EeZaaP"
      },
      "source": [
        "(ii) Faults"
      ]
    },
    {
      "cell_type": "markdown",
      "metadata": {
        "id": "2Ien4nTSZak3"
      },
      "source": [
        ""
      ]
    },
    {
      "cell_type": "code",
      "metadata": {
        "id": "TED2Hm8GZjTN"
      },
      "source": [
        "F=np.array([5,15,11,9,27,4,12])\n",
        "F"
      ],
      "execution_count": null,
      "outputs": []
    },
    {
      "cell_type": "markdown",
      "metadata": {
        "id": "MqxudEWzZavy"
      },
      "source": [
        ""
      ]
    },
    {
      "cell_type": "code",
      "metadata": {
        "id": "iY7eBYJjXak4"
      },
      "source": [
        "sum(F)"
      ],
      "execution_count": null,
      "outputs": []
    },
    {
      "cell_type": "code",
      "metadata": {
        "id": "be4URuZPXrTG"
      },
      "source": [
        "F/83"
      ],
      "execution_count": null,
      "outputs": []
    },
    {
      "cell_type": "markdown",
      "metadata": {
        "id": "qdyBNKGzXsKp"
      },
      "source": [
        "(i) Nominal"
      ]
    },
    {
      "cell_type": "code",
      "metadata": {
        "id": "Muzex2DIX3Db"
      },
      "source": [
        "sum(F/83)"
      ],
      "execution_count": null,
      "outputs": []
    },
    {
      "cell_type": "code",
      "metadata": {
        "id": "feoKI2GWZ7KZ"
      },
      "source": [
        ""
      ],
      "execution_count": null,
      "outputs": []
    },
    {
      "cell_type": "markdown",
      "metadata": {
        "id": "jRp7HPSZFIy6"
      },
      "source": [
        "### Week 1: Thursday, October 01\n",
        "\n",
        "* To calculate the CF and CRF of a the classes in a data set we can use the function __sum()__ and the __numpy__ function __np.cumsum()__.\n",
        "\n",
        "\n",
        "* Here we go through the Test Score Data from the lecture notes.\n",
        "\n",
        "\n",
        "__1.__ First we create the __numpy__ array for the frequencies of each bin. "
      ]
    },
    {
      "cell_type": "code",
      "metadata": {
        "id": "Hmv49X1oFGkg"
      },
      "source": [
        "Scores=np.array([1,1,1,4,4,5,4,5,4,3])"
      ],
      "execution_count": null,
      "outputs": []
    },
    {
      "cell_type": "markdown",
      "metadata": {
        "id": "v7VfvWpkGhDS"
      },
      "source": [
        "__2__ The number of data points $N$ is the __sum()__ of these frequencies."
      ]
    },
    {
      "cell_type": "code",
      "metadata": {
        "id": "Z1deAnDqGf_d"
      },
      "source": [
        "N=sum(Scores)\n",
        "N"
      ],
      "execution_count": null,
      "outputs": []
    },
    {
      "cell_type": "markdown",
      "metadata": {
        "id": "FKzV7aELGtt6"
      },
      "source": [
        "__3.__ The $CF$ of the classes are found using the __numpy__ function __np.cumsum()__ "
      ]
    },
    {
      "cell_type": "code",
      "metadata": {
        "id": "H2CNVilXGsma"
      },
      "source": [
        "CF=np.cumsum(Scores)\n",
        "CF"
      ],
      "execution_count": null,
      "outputs": []
    },
    {
      "cell_type": "markdown",
      "metadata": {
        "id": "XLHFZPa5HCjD"
      },
      "source": [
        "__4.__ The $RCF$ is $CF$ divided by $N$:"
      ]
    },
    {
      "cell_type": "code",
      "metadata": {
        "id": "zdi72wo0HA2A"
      },
      "source": [
        "CF/N"
      ],
      "execution_count": null,
      "outputs": []
    },
    {
      "cell_type": "markdown",
      "metadata": {
        "id": "D1x00M9-Kv8k"
      },
      "source": [
        "### matplotlib.pylot\n",
        "\n",
        "* This is a library of functions used for plotting data in python.\n",
        "\n",
        "* We will be using it often during this module, especially during the practicals."
      ]
    },
    {
      "cell_type": "code",
      "metadata": {
        "id": "aG0eXLDcHODF"
      },
      "source": [
        "import matplotlib.pyplot as plt"
      ],
      "execution_count": null,
      "outputs": []
    },
    {
      "cell_type": "markdown",
      "metadata": {
        "id": "22j9_SR6LDRQ"
      },
      "source": [
        "* Now we have imported the library we can use the function __plt.plot()__ to plot the __Cumulative Frequency Curve__ of the data set. "
      ]
    },
    {
      "cell_type": "code",
      "metadata": {
        "id": "aV1riAzGLCB2"
      },
      "source": [
        "plt.plot(CF/N,'o') # Plots a dot for each CRF in the data set\n",
        "plt.plot(CF/N,color='gray') # Plots a line connecting these dots\n",
        "plt.xlabel('k') # adds an x-label the index k from 1 to 10.\n",
        "plt.ylabel('CRF') # The CRF of each class "
      ],
      "execution_count": null,
      "outputs": []
    },
    {
      "cell_type": "markdown",
      "metadata": {
        "id": "-YZH3oliLbdt"
      },
      "source": [
        "* The curve is very staggered because we have a fairly small data set $N=32$ and a fairly small number of classes $n=10$."
      ]
    },
    {
      "cell_type": "code",
      "metadata": {
        "id": "nBEA3MAOLY0U"
      },
      "source": [
        ""
      ],
      "execution_count": null,
      "outputs": []
    },
    {
      "cell_type": "markdown",
      "metadata": {
        "id": "j_CbQ3EpS7YU"
      },
      "source": [
        "### Pareto Chart Example"
      ]
    },
    {
      "cell_type": "code",
      "metadata": {
        "id": "lcZZKBlcS-fc"
      },
      "source": [
        "Reason=np.array([36,27,22,15,12,8])\n",
        "Reason"
      ],
      "execution_count": null,
      "outputs": []
    },
    {
      "cell_type": "code",
      "metadata": {
        "id": "0cFWqrtfTFVn"
      },
      "source": [
        "sum(Reason)"
      ],
      "execution_count": null,
      "outputs": []
    },
    {
      "cell_type": "code",
      "metadata": {
        "id": "56pgzz08TIWD"
      },
      "source": [
        "np.cumsum(Reason)"
      ],
      "execution_count": null,
      "outputs": []
    },
    {
      "cell_type": "code",
      "metadata": {
        "id": "YWcvq5xYTVm6"
      },
      "source": [
        "np.cumsum(Reason)/sum(Reason)"
      ],
      "execution_count": null,
      "outputs": []
    },
    {
      "cell_type": "code",
      "metadata": {
        "id": "24_viqL1T25R"
      },
      "source": [
        ""
      ],
      "execution_count": null,
      "outputs": []
    }
  ]
}