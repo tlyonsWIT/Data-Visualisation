{
 "cells": [
  {
   "cell_type": "markdown",
   "metadata": {},
   "source": [
    "# Data Visualisation 2020 - Notebook 0\n",
    "\n",
    "\n",
    "## Introduction to the Jupyter environment"
   ]
  },
  {
   "cell_type": "markdown",
   "metadata": {},
   "source": [
    "# $\\S$ 1. Importing Libraries\n",
    "\n",
    "\n",
    "* There are several libraries we will use frequently in these workbooks throughout the semester. The most frequent ones are \n",
    "\n",
    "    __(1)__ __numpy__ (numerical python)\n",
    "\n",
    "    __(2)__ __matplotlib__ (for plotting)\n",
    "\n",
    "    __(3)__ __pandas__ (for importing and manipulating data sets)\n",
    "\n",
    "    __(4)__ __seaborn__ (nice data visulaisation tools built on matplotlib)\n",
    "    \n",
    "\n",
    "* We may import each of these with a particular name (or abbreviation) of our choosing. In this workbook they will be imported as follows:"
   ]
  },
  {
   "cell_type": "code",
   "execution_count": 1,
   "metadata": {},
   "outputs": [],
   "source": [
    "import numpy as np\n",
    "import matplotlib.pyplot as plt\n",
    "from matplotlib import style\n",
    "import pandas as pd\n",
    "import seaborn as sb"
   ]
  },
  {
   "cell_type": "markdown",
   "metadata": {},
   "source": [
    "# $\\S$ 2. Creating and Importing Data Files\n",
    "\n",
    "* In many of the practicals we will obtain data files from various sources and use __python__ to perform various tasks with this data.\n",
    "\n",
    "\n",
    "* We will also create our own data sets and import them into __python__.\n",
    "\n",
    "\n",
    "* In most cases, the data files we create will be of __.csv__ type (__csv__ = __c__omma __s__eparated __v__alues).\n",
    "\n",
    "\n",
    "* These files are easily created in spread-sheet packages like __Excel__, __LibreOffice__ etc.\n",
    "\n",
    "\n",
    "* To __import__ these files we use the _pandas_ command __pd.read_csv('some_file_name.csv')__.\n"
   ]
  },
  {
   "cell_type": "markdown",
   "metadata": {},
   "source": [
    "## Example 1\n",
    "\n",
    "\n",
    "The cars in a car-park were counted by make, with the following data collected\n",
    "\n",
    "|  Make  |  Number |\n",
    "|--------|---------|\n",
    "| Audi   |    3    |\n",
    "| BMW    |    2    |\n",
    "| Citroen|    5    |\n",
    "| Ford   |    8    |\n",
    "| Hyundai|    9    |\n",
    "| Opel   |    6    |\n",
    "| Toyota |    8    |\n",
    "| VW     |    6    |\n",
    "\n",
    "\n",
    "\n",
    "\n",
    "   **1.** Create a file to represent this data in __Excel__ and save this file with the extension __.csv__. Save this csv file in the same dierectory as this notebook, to make things slightly easier. \n",
    "\n",
    "   **2.** Import this data file  as __EG1__ into __python__ using the command __pd.read_csv()__\n"
   ]
  },
  {
   "cell_type": "markdown",
   "metadata": {},
   "source": [
    "### Solution\n",
    "\n",
    "\n",
    "__1.__ The data is created in Excel in the obvious way. This can be dowloaded from __Moodle->Data Visulisation-> Python Wrokbooks->Data Files for Notebooks->Example1.csv__.  \n",
    "\n",
    "\n",
    "\n",
    "__2.__ __Make sure__ you save this excel file with the __.csv__ extension!! \n",
    "\n",
    "\n",
    "\n",
    "__3.__ The data is import using the Pandas command __read_csv()__ as follows:"
   ]
  },
  {
   "cell_type": "code",
   "execution_count": 2,
   "metadata": {},
   "outputs": [],
   "source": [
    "EG1=pd.read_csv('Example1.csv')"
   ]
  },
  {
   "cell_type": "markdown",
   "metadata": {},
   "source": [
    "* This has used the pandas (pd) command __read_csv()__ to import the data from the file __Example1.csv__ and called this data set __data_eg1__.\n",
    "\n",
    "* To display this data set, simply call __data_eg1__ in a python cell, as follows"
   ]
  },
  {
   "cell_type": "code",
   "execution_count": 3,
   "metadata": {},
   "outputs": [
    {
     "data": {
      "text/html": [
       "<div>\n",
       "<style scoped>\n",
       "    .dataframe tbody tr th:only-of-type {\n",
       "        vertical-align: middle;\n",
       "    }\n",
       "\n",
       "    .dataframe tbody tr th {\n",
       "        vertical-align: top;\n",
       "    }\n",
       "\n",
       "    .dataframe thead th {\n",
       "        text-align: right;\n",
       "    }\n",
       "</style>\n",
       "<table border=\"1\" class=\"dataframe\">\n",
       "  <thead>\n",
       "    <tr style=\"text-align: right;\">\n",
       "      <th></th>\n",
       "      <th>Make</th>\n",
       "      <th>Number</th>\n",
       "    </tr>\n",
       "  </thead>\n",
       "  <tbody>\n",
       "    <tr>\n",
       "      <th>0</th>\n",
       "      <td>Audi</td>\n",
       "      <td>3</td>\n",
       "    </tr>\n",
       "    <tr>\n",
       "      <th>1</th>\n",
       "      <td>BMW</td>\n",
       "      <td>2</td>\n",
       "    </tr>\n",
       "    <tr>\n",
       "      <th>2</th>\n",
       "      <td>Citroen</td>\n",
       "      <td>5</td>\n",
       "    </tr>\n",
       "    <tr>\n",
       "      <th>3</th>\n",
       "      <td>Ford</td>\n",
       "      <td>8</td>\n",
       "    </tr>\n",
       "    <tr>\n",
       "      <th>4</th>\n",
       "      <td>Hyundai</td>\n",
       "      <td>9</td>\n",
       "    </tr>\n",
       "    <tr>\n",
       "      <th>5</th>\n",
       "      <td>Opel</td>\n",
       "      <td>6</td>\n",
       "    </tr>\n",
       "    <tr>\n",
       "      <th>6</th>\n",
       "      <td>Toyota</td>\n",
       "      <td>8</td>\n",
       "    </tr>\n",
       "    <tr>\n",
       "      <th>7</th>\n",
       "      <td>VW</td>\n",
       "      <td>6</td>\n",
       "    </tr>\n",
       "  </tbody>\n",
       "</table>\n",
       "</div>"
      ],
      "text/plain": [
       "      Make  Number\n",
       "0     Audi       3\n",
       "1      BMW       2\n",
       "2  Citroen       5\n",
       "3     Ford       8\n",
       "4  Hyundai       9\n",
       "5     Opel       6\n",
       "6   Toyota       8\n",
       "7       VW       6"
      ]
     },
     "execution_count": 3,
     "metadata": {},
     "output_type": "execute_result"
    }
   ],
   "source": [
    "EG1"
   ]
  },
  {
   "cell_type": "markdown",
   "metadata": {},
   "source": [
    "## Selecting individual columns & rows\n",
    "\n",
    "* We see that the data structure has two columns called __Make__ and __Number__. To display an individual column we use the following:"
   ]
  },
  {
   "cell_type": "code",
   "execution_count": 4,
   "metadata": {},
   "outputs": [
    {
     "data": {
      "text/plain": [
       "0       Audi\n",
       "1        BMW\n",
       "2    Citroen\n",
       "3       Ford\n",
       "4    Hyundai\n",
       "5       Opel\n",
       "6     Toyota\n",
       "7         VW\n",
       "Name: Make, dtype: object"
      ]
     },
     "execution_count": 4,
     "metadata": {},
     "output_type": "execute_result"
    }
   ],
   "source": [
    "EG1['Make']"
   ]
  },
  {
   "cell_type": "code",
   "execution_count": 5,
   "metadata": {},
   "outputs": [
    {
     "data": {
      "text/plain": [
       "0    3\n",
       "1    2\n",
       "2    5\n",
       "3    8\n",
       "4    9\n",
       "5    6\n",
       "6    8\n",
       "7    6\n",
       "Name: Number, dtype: int64"
      ]
     },
     "execution_count": 5,
     "metadata": {},
     "output_type": "execute_result"
    }
   ],
   "source": [
    "EG1['Number']"
   ]
  },
  {
   "cell_type": "markdown",
   "metadata": {},
   "source": [
    "* On the very left of the data structure above, we see that each row is numbered from __0__ to __7__ (python always starts counting from zero, so be careful with this).\n",
    "\n",
    "* We select an individual row using the command __.iloc__ (short for __i__ndex __loc__ation)"
   ]
  },
  {
   "cell_type": "code",
   "execution_count": 6,
   "metadata": {},
   "outputs": [
    {
     "data": {
      "text/plain": [
       "Make      Ford\n",
       "Number       8\n",
       "Name: 3, dtype: object"
      ]
     },
     "execution_count": 6,
     "metadata": {},
     "output_type": "execute_result"
    }
   ],
   "source": [
    "EG1.iloc[3]"
   ]
  },
  {
   "cell_type": "markdown",
   "metadata": {},
   "source": [
    "* As we can see this gives the fourth row of the data frame.\n",
    "\n",
    "\n",
    "* To select  rows _m_ to _n_ we use __.iloc[m:n]__. In this example we will show data rows 0 to 2 and 5 to 6 as follows: "
   ]
  },
  {
   "cell_type": "code",
   "execution_count": 7,
   "metadata": {},
   "outputs": [
    {
     "data": {
      "text/html": [
       "<div>\n",
       "<style scoped>\n",
       "    .dataframe tbody tr th:only-of-type {\n",
       "        vertical-align: middle;\n",
       "    }\n",
       "\n",
       "    .dataframe tbody tr th {\n",
       "        vertical-align: top;\n",
       "    }\n",
       "\n",
       "    .dataframe thead th {\n",
       "        text-align: right;\n",
       "    }\n",
       "</style>\n",
       "<table border=\"1\" class=\"dataframe\">\n",
       "  <thead>\n",
       "    <tr style=\"text-align: right;\">\n",
       "      <th></th>\n",
       "      <th>Make</th>\n",
       "      <th>Number</th>\n",
       "    </tr>\n",
       "  </thead>\n",
       "  <tbody>\n",
       "    <tr>\n",
       "      <th>0</th>\n",
       "      <td>Audi</td>\n",
       "      <td>3</td>\n",
       "    </tr>\n",
       "    <tr>\n",
       "      <th>1</th>\n",
       "      <td>BMW</td>\n",
       "      <td>2</td>\n",
       "    </tr>\n",
       "    <tr>\n",
       "      <th>2</th>\n",
       "      <td>Citroen</td>\n",
       "      <td>5</td>\n",
       "    </tr>\n",
       "  </tbody>\n",
       "</table>\n",
       "</div>"
      ],
      "text/plain": [
       "      Make  Number\n",
       "0     Audi       3\n",
       "1      BMW       2\n",
       "2  Citroen       5"
      ]
     },
     "execution_count": 7,
     "metadata": {},
     "output_type": "execute_result"
    }
   ],
   "source": [
    "EG1.iloc[0:3]"
   ]
  },
  {
   "cell_type": "code",
   "execution_count": 8,
   "metadata": {},
   "outputs": [
    {
     "data": {
      "text/html": [
       "<div>\n",
       "<style scoped>\n",
       "    .dataframe tbody tr th:only-of-type {\n",
       "        vertical-align: middle;\n",
       "    }\n",
       "\n",
       "    .dataframe tbody tr th {\n",
       "        vertical-align: top;\n",
       "    }\n",
       "\n",
       "    .dataframe thead th {\n",
       "        text-align: right;\n",
       "    }\n",
       "</style>\n",
       "<table border=\"1\" class=\"dataframe\">\n",
       "  <thead>\n",
       "    <tr style=\"text-align: right;\">\n",
       "      <th></th>\n",
       "      <th>Make</th>\n",
       "      <th>Number</th>\n",
       "    </tr>\n",
       "  </thead>\n",
       "  <tbody>\n",
       "    <tr>\n",
       "      <th>5</th>\n",
       "      <td>Opel</td>\n",
       "      <td>6</td>\n",
       "    </tr>\n",
       "    <tr>\n",
       "      <th>6</th>\n",
       "      <td>Toyota</td>\n",
       "      <td>8</td>\n",
       "    </tr>\n",
       "  </tbody>\n",
       "</table>\n",
       "</div>"
      ],
      "text/plain": [
       "     Make  Number\n",
       "5    Opel       6\n",
       "6  Toyota       8"
      ]
     },
     "execution_count": 8,
     "metadata": {},
     "output_type": "execute_result"
    }
   ],
   "source": [
    "EG1.iloc[5:7]"
   ]
  },
  {
   "cell_type": "markdown",
   "metadata": {},
   "source": [
    "* We can also combine selections of rows and columns using __.iloc[rows, columns]__"
   ]
  },
  {
   "cell_type": "code",
   "execution_count": 9,
   "metadata": {},
   "outputs": [
    {
     "data": {
      "text/plain": [
       "5      Opel\n",
       "6    Toyota\n",
       "Name: Make, dtype: object"
      ]
     },
     "execution_count": 9,
     "metadata": {},
     "output_type": "execute_result"
    }
   ],
   "source": [
    "EG1.iloc[5:7,0]"
   ]
  },
  {
   "cell_type": "markdown",
   "metadata": {},
   "source": [
    "* Here we have shown the third-last and second-last rows  of the first column."
   ]
  },
  {
   "cell_type": "markdown",
   "metadata": {},
   "source": [
    "## Exercise 1\n",
    "\n",
    "* The recent closing price of shares in __Ryanair__ on the Irish Stock Exchange __(ISEQ)__ for 5 consecutinve trading days, is shown below. \n",
    "\n",
    "__Ryanair Share Closing Price(€) ISEQ   (27 August 2020 - 2 September 2020)__\n",
    "\n",
    "|Date      |Close |\n",
    "|----------|------|\n",
    "|02/09/2020|11.735|\n",
    "|01/09/2020|11.775|\n",
    "|31/08/2020|12.085|\n",
    "|28/08/2020|12.675|\n",
    "|27/08/2020|12.765|\n",
    "\n",
    "\n",
    "__1.__ Create a __.csv__ file for this data.\n",
    "\n",
    "__2.__ Import the data from this file into __python__.\n",
    "\n",
    "__3.__ Display the data from the individual columns of this data structure.\n",
    "\n",
    "__4.__ Display the data from the first two rows of the second column."
   ]
  },
  {
   "cell_type": "code",
   "execution_count": null,
   "metadata": {},
   "outputs": [],
   "source": []
  },
  {
   "cell_type": "code",
   "execution_count": null,
   "metadata": {},
   "outputs": [],
   "source": []
  },
  {
   "cell_type": "code",
   "execution_count": null,
   "metadata": {},
   "outputs": [],
   "source": []
  },
  {
   "cell_type": "code",
   "execution_count": null,
   "metadata": {},
   "outputs": [],
   "source": []
  },
  {
   "cell_type": "code",
   "execution_count": null,
   "metadata": {},
   "outputs": [],
   "source": []
  },
  {
   "cell_type": "code",
   "execution_count": null,
   "metadata": {},
   "outputs": [],
   "source": []
  },
  {
   "cell_type": "code",
   "execution_count": null,
   "metadata": {},
   "outputs": [],
   "source": []
  },
  {
   "cell_type": "code",
   "execution_count": null,
   "metadata": {},
   "outputs": [],
   "source": []
  },
  {
   "cell_type": "markdown",
   "metadata": {},
   "source": [
    "# $\\S$ 3. Python functions acting on data sets\n",
    "\n",
    "* The main aim of this course is to find the best way to represent the information in a data set. For that reason, there will be a certain amount of mathematical work involved in this course, which we will cover using simple examples and simple data sets during lectures.\n",
    "\n",
    "\n",
    "* While the mathematics involved is not particularly difficult, when we use real-world data sets (which tend be large), the mathematics can become cumbersome and tedious and practically impossible to complete by hand.\n",
    "\n",
    "\n",
    "* __Python__  can automate a huge amount of this work for us for these larger data sets, and during the practicals we will try to implement some of the maths we learn during lectures to much larger (and more realistic) data sets.\n",
    "\n",
    "\n",
    "* Some of the familiar matematical functions we will be applying to data sets will be\n",
    "  \n",
    "    * __Mean__ (i.e.  __Average__)\n",
    "    \n",
    "    * __Median__ (i.e. __Middle__)\n",
    "    \n",
    "    * __Standard Deviation__ (i.e. __Spread__) \n",
    "    \n",
    "    \n",
    "\n",
    "* There will be others we encounter as we proceed, and they will be introduced in lectures and in these practicals during the semester."
   ]
  },
  {
   "cell_type": "markdown",
   "metadata": {},
   "source": [
    "## Example 2\n",
    "\n",
    "* Create a __numpy array__ to represent the data set\n",
    "\n",
    "\n",
    "$$S=\\{1,5,-32,1,1,4,33,6,-6,10,12,-15,22,3,3,-4,18,-19,2,-2,2,1\\}$$\n",
    "\n",
    "* Using this data structure answer the following:\n",
    "\n",
    "    __1.__ Find the __mean__ of $S$.\n",
    "  \n",
    "   __2.__ Find the __median__ of $S$.\n",
    "  \n",
    "   __3.__ Find the __standard deviation__ of $S^2$, where $S^2$ means each element of $S$ should be squared individually.\n",
    "  \n",
    "   __4.__ Find the __mean__ of $S^2+3S$.\n",
    "  \n",
    "   __5.__ Find the __median__ of $4S^2+S+4$.\n",
    "  \n",
    "   __6.__ Sort the data.\n",
    "  \n",
    "   __7.__ Find the nuber of data points.\n",
    "  \n",
    "   __8.__ Find the  sum of the data values.\n",
    "  \n",
    "   __9.__ Divide the result of __8.__ by the result from __7.__ and compare with the velue in __1.__\n",
    "  \n",
    "   __10.__ Does the result in __2.__ evenly splid the ordered data set in __6.__?"
   ]
  },
  {
   "cell_type": "markdown",
   "metadata": {},
   "source": [
    "### Solution\n",
    "\n",
    "* We create the actual data array using the nummpy command __array([])__ as follows (note the double brackets!!)"
   ]
  },
  {
   "cell_type": "code",
   "execution_count": 10,
   "metadata": {},
   "outputs": [
    {
     "data": {
      "text/plain": [
       "array([  1,   5, -32,   1,   1,   4,  33,   6,  -6,  10,  12, -15,  22,\n",
       "         3,   3,  -4,  18, -19,   2,  -2,   2,   1])"
      ]
     },
     "execution_count": 10,
     "metadata": {},
     "output_type": "execute_result"
    }
   ],
   "source": [
    "S=np.array([1,5,-32,1,1,4,33,6,-6,10,12,-15,22,3,3,-4,18,-19,2,-2,2,1])\n",
    "S"
   ]
  },
  {
   "cell_type": "markdown",
   "metadata": {},
   "source": [
    "__1.__ The mean is found using __np.mean()__"
   ]
  },
  {
   "cell_type": "code",
   "execution_count": 11,
   "metadata": {},
   "outputs": [
    {
     "data": {
      "text/plain": [
       "2.090909090909091"
      ]
     },
     "execution_count": 11,
     "metadata": {},
     "output_type": "execute_result"
    }
   ],
   "source": [
    "np.mean(S)"
   ]
  },
  {
   "cell_type": "markdown",
   "metadata": {},
   "source": [
    "__2.__ The median is found using __np.median()__"
   ]
  },
  {
   "cell_type": "code",
   "execution_count": 12,
   "metadata": {},
   "outputs": [
    {
     "data": {
      "text/plain": [
       "2.0"
      ]
     },
     "execution_count": 12,
     "metadata": {},
     "output_type": "execute_result"
    }
   ],
   "source": [
    "np.median(S)"
   ]
  },
  {
   "cell_type": "markdown",
   "metadata": {},
   "source": [
    "__3.__ In Python we use __*__ to denote multiplication and __**__ to denote a power. So $S^2$ is written in Python as "
   ]
  },
  {
   "cell_type": "code",
   "execution_count": 13,
   "metadata": {},
   "outputs": [
    {
     "data": {
      "text/plain": [
       "array([   1,   25, 1024,    1,    1,   16, 1089,   36,   36,  100,  144,\n",
       "        225,  484,    9,    9,   16,  324,  361,    4,    4,    4,    1])"
      ]
     },
     "execution_count": 13,
     "metadata": {},
     "output_type": "execute_result"
    }
   ],
   "source": [
    "S**2"
   ]
  },
  {
   "cell_type": "markdown",
   "metadata": {},
   "source": [
    "* We see each individual element of $S$ has be squared.\n",
    "\n",
    "\n",
    "* The __standard deviaation__ of the ``squared set'' is found using __np.std()__"
   ]
  },
  {
   "cell_type": "code",
   "execution_count": 14,
   "metadata": {},
   "outputs": [
    {
     "data": {
      "text/plain": [
       "308.4431447669392"
      ]
     },
     "execution_count": 14,
     "metadata": {},
     "output_type": "execute_result"
    }
   ],
   "source": [
    "np.std(S**2)"
   ]
  },
  {
   "cell_type": "markdown",
   "metadata": {},
   "source": [
    "__4.__ This is just a combination of the results of the other three parts:"
   ]
  },
  {
   "cell_type": "code",
   "execution_count": 15,
   "metadata": {},
   "outputs": [
    {
     "data": {
      "text/plain": [
       "184.1818181818182"
      ]
     },
     "execution_count": 15,
     "metadata": {},
     "output_type": "execute_result"
    }
   ],
   "source": [
    "np.mean(S**2+3*S)"
   ]
  },
  {
   "cell_type": "markdown",
   "metadata": {},
   "source": [
    "__5.__ Again, this is a simple combination of the other functions we have encountered:"
   ]
  },
  {
   "cell_type": "code",
   "execution_count": 16,
   "metadata": {},
   "outputs": [
    {
     "data": {
      "text/plain": [
       "29.0"
      ]
     },
     "execution_count": 16,
     "metadata": {},
     "output_type": "execute_result"
    }
   ],
   "source": [
    "np.median(S**2+S+4)"
   ]
  },
  {
   "cell_type": "markdown",
   "metadata": {},
   "source": [
    "__6.__ We use the __np.sort()__ function to arrange the set $S$ in order of increasing values"
   ]
  },
  {
   "cell_type": "code",
   "execution_count": 17,
   "metadata": {},
   "outputs": [
    {
     "data": {
      "text/plain": [
       "array([-32, -19, -15,  -6,  -4,  -2,   1,   1,   1,   1,   2,   2,   3,\n",
       "         3,   4,   5,   6,  10,  12,  18,  22,  33])"
      ]
     },
     "execution_count": 17,
     "metadata": {},
     "output_type": "execute_result"
    }
   ],
   "source": [
    "np.sort(S)"
   ]
  },
  {
   "cell_type": "markdown",
   "metadata": {},
   "source": [
    "__7.__ We use __len()__ to count the number of data values in $S$ (i.e. it gives the __length__ of $S$)"
   ]
  },
  {
   "cell_type": "code",
   "execution_count": 18,
   "metadata": {},
   "outputs": [
    {
     "data": {
      "text/plain": [
       "22"
      ]
     },
     "execution_count": 18,
     "metadata": {},
     "output_type": "execute_result"
    }
   ],
   "source": [
    "len(S)"
   ]
  },
  {
   "cell_type": "markdown",
   "metadata": {},
   "source": [
    "__8.__ We use __sum()__ to add all the values in $S$"
   ]
  },
  {
   "cell_type": "code",
   "execution_count": 19,
   "metadata": {},
   "outputs": [
    {
     "data": {
      "text/plain": [
       "46"
      ]
     },
     "execution_count": 19,
     "metadata": {},
     "output_type": "execute_result"
    }
   ],
   "source": [
    "sum(S)"
   ]
  },
  {
   "cell_type": "markdown",
   "metadata": {},
   "source": [
    "__9.__ Carrying out the instructions we find"
   ]
  },
  {
   "cell_type": "code",
   "execution_count": 20,
   "metadata": {},
   "outputs": [
    {
     "data": {
      "text/plain": [
       "2.090909090909091"
      ]
     },
     "execution_count": 20,
     "metadata": {},
     "output_type": "execute_result"
    }
   ],
   "source": [
    "sum(S)/len(S)"
   ]
  },
  {
   "cell_type": "markdown",
   "metadata": {},
   "source": [
    "* This agrees with the mean found in part __1.__, as it should!"
   ]
  },
  {
   "cell_type": "markdown",
   "metadata": {},
   "source": [
    "__10.__ In the sorted data set in part __6.__, we see that half the data values are less than 2 and half the values are greater than 2, so it appears 2 is indeed the median of the data set. "
   ]
  },
  {
   "cell_type": "markdown",
   "metadata": {},
   "source": [
    "## Example 3\n",
    "\n",
    "The historical price data of shares in __Amazon__ on the NASDAQ Stock Exchange, from __3 August 2020 - 1 September 2020__, is available at \n",
    "\n",
    "[__Amazon NASDAQ Price__](https://www.nasdaq.com/symbol/amzn/historical), \n",
    "\n",
    "and can be downloaded as a __.csv__ file from __Moodle->Data Visualisation->Python Workbooks->Data Files for Notebooks->AMZN.csv__.\n",
    "\n",
    "\n",
    "\n",
    "* Extract the __Close__, __Open__, __High__ and __Low__ data and answer the following:\n",
    "\n",
    "\n",
    "   __1.__ Find the mean closing price of the shares over this period, i.e. find the mean of __Close__\n",
    "\n",
    "\n",
    "   __2.__ Find the mean difference between the opening and closing values, i.e. the mean of ( __Close__ - __Open__ )\n",
    "\n",
    "\n",
    "   __3.__ Find the standard deviation of __High__ \n",
    "\n",
    "\n",
    "   __4.__ Find the mean, median and standard deviation of ( __High__ - __Low__ )\n",
    "   \n",
    "   \n",
    " ### Solution"
   ]
  },
  {
   "cell_type": "code",
   "execution_count": 21,
   "metadata": {},
   "outputs": [],
   "source": [
    "#1.\n",
    "AMZN=pd.read_csv('AMZN.csv')"
   ]
  },
  {
   "cell_type": "code",
   "execution_count": 22,
   "metadata": {},
   "outputs": [
    {
     "data": {
      "text/html": [
       "<div>\n",
       "<style scoped>\n",
       "    .dataframe tbody tr th:only-of-type {\n",
       "        vertical-align: middle;\n",
       "    }\n",
       "\n",
       "    .dataframe tbody tr th {\n",
       "        vertical-align: top;\n",
       "    }\n",
       "\n",
       "    .dataframe thead th {\n",
       "        text-align: right;\n",
       "    }\n",
       "</style>\n",
       "<table border=\"1\" class=\"dataframe\">\n",
       "  <thead>\n",
       "    <tr style=\"text-align: right;\">\n",
       "      <th></th>\n",
       "      <th>Date</th>\n",
       "      <th>Close</th>\n",
       "      <th>Open</th>\n",
       "      <th>High</th>\n",
       "      <th>Low</th>\n",
       "    </tr>\n",
       "  </thead>\n",
       "  <tbody>\n",
       "    <tr>\n",
       "      <th>0</th>\n",
       "      <td>09/01/2020</td>\n",
       "      <td>3499</td>\n",
       "      <td>3490</td>\n",
       "      <td>3514</td>\n",
       "      <td>3467</td>\n",
       "    </tr>\n",
       "    <tr>\n",
       "      <th>1</th>\n",
       "      <td>08/31/2020</td>\n",
       "      <td>3451</td>\n",
       "      <td>3409</td>\n",
       "      <td>3495</td>\n",
       "      <td>3405</td>\n",
       "    </tr>\n",
       "    <tr>\n",
       "      <th>2</th>\n",
       "      <td>08/28/2020</td>\n",
       "      <td>3402</td>\n",
       "      <td>3423</td>\n",
       "      <td>3433</td>\n",
       "      <td>3387</td>\n",
       "    </tr>\n",
       "    <tr>\n",
       "      <th>3</th>\n",
       "      <td>08/27/2020</td>\n",
       "      <td>3400</td>\n",
       "      <td>3450</td>\n",
       "      <td>3453</td>\n",
       "      <td>3378</td>\n",
       "    </tr>\n",
       "    <tr>\n",
       "      <th>4</th>\n",
       "      <td>08/26/2020</td>\n",
       "      <td>3442</td>\n",
       "      <td>3351</td>\n",
       "      <td>3452</td>\n",
       "      <td>3345</td>\n",
       "    </tr>\n",
       "    <tr>\n",
       "      <th>5</th>\n",
       "      <td>08/25/2020</td>\n",
       "      <td>3346</td>\n",
       "      <td>3295</td>\n",
       "      <td>3357</td>\n",
       "      <td>3267</td>\n",
       "    </tr>\n",
       "    <tr>\n",
       "      <th>6</th>\n",
       "      <td>08/24/2020</td>\n",
       "      <td>3307</td>\n",
       "      <td>3310</td>\n",
       "      <td>3380</td>\n",
       "      <td>3258</td>\n",
       "    </tr>\n",
       "    <tr>\n",
       "      <th>7</th>\n",
       "      <td>08/21/2020</td>\n",
       "      <td>3285</td>\n",
       "      <td>3295</td>\n",
       "      <td>3314</td>\n",
       "      <td>3275</td>\n",
       "    </tr>\n",
       "    <tr>\n",
       "      <th>8</th>\n",
       "      <td>08/20/2020</td>\n",
       "      <td>3297</td>\n",
       "      <td>3252</td>\n",
       "      <td>3313</td>\n",
       "      <td>3238</td>\n",
       "    </tr>\n",
       "    <tr>\n",
       "      <th>9</th>\n",
       "      <td>08/19/2020</td>\n",
       "      <td>3260</td>\n",
       "      <td>3303</td>\n",
       "      <td>3316</td>\n",
       "      <td>3256</td>\n",
       "    </tr>\n",
       "    <tr>\n",
       "      <th>10</th>\n",
       "      <td>08/18/2020</td>\n",
       "      <td>3312</td>\n",
       "      <td>3212</td>\n",
       "      <td>3320</td>\n",
       "      <td>3206</td>\n",
       "    </tr>\n",
       "    <tr>\n",
       "      <th>11</th>\n",
       "      <td>08/17/2020</td>\n",
       "      <td>3182</td>\n",
       "      <td>3173</td>\n",
       "      <td>3195</td>\n",
       "      <td>3154</td>\n",
       "    </tr>\n",
       "    <tr>\n",
       "      <th>12</th>\n",
       "      <td>08/14/2020</td>\n",
       "      <td>3148</td>\n",
       "      <td>3178</td>\n",
       "      <td>3178</td>\n",
       "      <td>3120</td>\n",
       "    </tr>\n",
       "    <tr>\n",
       "      <th>13</th>\n",
       "      <td>08/13/2020</td>\n",
       "      <td>3161</td>\n",
       "      <td>3183</td>\n",
       "      <td>3218</td>\n",
       "      <td>3155</td>\n",
       "    </tr>\n",
       "    <tr>\n",
       "      <th>14</th>\n",
       "      <td>08/12/2020</td>\n",
       "      <td>3162</td>\n",
       "      <td>3108</td>\n",
       "      <td>3174</td>\n",
       "      <td>3101</td>\n",
       "    </tr>\n",
       "    <tr>\n",
       "      <th>15</th>\n",
       "      <td>08/11/2020</td>\n",
       "      <td>3081</td>\n",
       "      <td>3113</td>\n",
       "      <td>3159</td>\n",
       "      <td>3073</td>\n",
       "    </tr>\n",
       "    <tr>\n",
       "      <th>16</th>\n",
       "      <td>08/10/2020</td>\n",
       "      <td>3148</td>\n",
       "      <td>3170</td>\n",
       "      <td>3173</td>\n",
       "      <td>3102</td>\n",
       "    </tr>\n",
       "    <tr>\n",
       "      <th>17</th>\n",
       "      <td>08/07/2020</td>\n",
       "      <td>3167</td>\n",
       "      <td>3224</td>\n",
       "      <td>3241</td>\n",
       "      <td>3141</td>\n",
       "    </tr>\n",
       "    <tr>\n",
       "      <th>18</th>\n",
       "      <td>08/06/2020</td>\n",
       "      <td>3225</td>\n",
       "      <td>3194</td>\n",
       "      <td>3247</td>\n",
       "      <td>3165</td>\n",
       "    </tr>\n",
       "    <tr>\n",
       "      <th>19</th>\n",
       "      <td>08/05/2020</td>\n",
       "      <td>3205</td>\n",
       "      <td>3144</td>\n",
       "      <td>3214</td>\n",
       "      <td>3127</td>\n",
       "    </tr>\n",
       "    <tr>\n",
       "      <th>20</th>\n",
       "      <td>08/04/2020</td>\n",
       "      <td>3139</td>\n",
       "      <td>3101</td>\n",
       "      <td>3167</td>\n",
       "      <td>3101</td>\n",
       "    </tr>\n",
       "    <tr>\n",
       "      <th>21</th>\n",
       "      <td>08/03/2020</td>\n",
       "      <td>3112</td>\n",
       "      <td>3181</td>\n",
       "      <td>3184</td>\n",
       "      <td>3104</td>\n",
       "    </tr>\n",
       "  </tbody>\n",
       "</table>\n",
       "</div>"
      ],
      "text/plain": [
       "          Date  Close  Open  High   Low\n",
       "0   09/01/2020   3499  3490  3514  3467\n",
       "1   08/31/2020   3451  3409  3495  3405\n",
       "2   08/28/2020   3402  3423  3433  3387\n",
       "3   08/27/2020   3400  3450  3453  3378\n",
       "4   08/26/2020   3442  3351  3452  3345\n",
       "5   08/25/2020   3346  3295  3357  3267\n",
       "6   08/24/2020   3307  3310  3380  3258\n",
       "7   08/21/2020   3285  3295  3314  3275\n",
       "8   08/20/2020   3297  3252  3313  3238\n",
       "9   08/19/2020   3260  3303  3316  3256\n",
       "10  08/18/2020   3312  3212  3320  3206\n",
       "11  08/17/2020   3182  3173  3195  3154\n",
       "12  08/14/2020   3148  3178  3178  3120\n",
       "13  08/13/2020   3161  3183  3218  3155\n",
       "14  08/12/2020   3162  3108  3174  3101\n",
       "15  08/11/2020   3081  3113  3159  3073\n",
       "16  08/10/2020   3148  3170  3173  3102\n",
       "17  08/07/2020   3167  3224  3241  3141\n",
       "18  08/06/2020   3225  3194  3247  3165\n",
       "19  08/05/2020   3205  3144  3214  3127\n",
       "20  08/04/2020   3139  3101  3167  3101\n",
       "21  08/03/2020   3112  3181  3184  3104"
      ]
     },
     "execution_count": 22,
     "metadata": {},
     "output_type": "execute_result"
    }
   ],
   "source": [
    "AMZN"
   ]
  },
  {
   "cell_type": "code",
   "execution_count": 23,
   "metadata": {},
   "outputs": [
    {
     "data": {
      "text/plain": [
       "3260.5"
      ]
     },
     "execution_count": 23,
     "metadata": {},
     "output_type": "execute_result"
    }
   ],
   "source": [
    "#2.\n",
    "np.mean(AMZN['Close'])"
   ]
  },
  {
   "cell_type": "code",
   "execution_count": 24,
   "metadata": {},
   "outputs": [
    {
     "data": {
      "text/plain": [
       "0.0"
      ]
     },
     "execution_count": 24,
     "metadata": {},
     "output_type": "execute_result"
    }
   ],
   "source": [
    "#3.\n",
    "np.mean(AMZN['Close']-AMZN['Close'])"
   ]
  },
  {
   "cell_type": "code",
   "execution_count": 25,
   "metadata": {},
   "outputs": [
    {
     "data": {
      "text/plain": [
       "114.32823017468623"
      ]
     },
     "execution_count": 25,
     "metadata": {},
     "output_type": "execute_result"
    }
   ],
   "source": [
    "#4.\n",
    "np.std(AMZN['High'])"
   ]
  },
  {
   "cell_type": "code",
   "execution_count": 26,
   "metadata": {},
   "outputs": [
    {
     "data": {
      "text/plain": [
       "76.0"
      ]
     },
     "execution_count": 26,
     "metadata": {},
     "output_type": "execute_result"
    }
   ],
   "source": [
    "#5.\n",
    "np.mean(AMZN['High']-AMZN['Low'])"
   ]
  },
  {
   "cell_type": "code",
   "execution_count": 27,
   "metadata": {},
   "outputs": [
    {
     "data": {
      "text/plain": [
       "75.0"
      ]
     },
     "execution_count": 27,
     "metadata": {},
     "output_type": "execute_result"
    }
   ],
   "source": [
    "np.median(AMZN['High']-AMZN['Low'])"
   ]
  },
  {
   "cell_type": "code",
   "execution_count": 28,
   "metadata": {},
   "outputs": [
    {
     "data": {
      "text/plain": [
       "22.342377182874213"
      ]
     },
     "execution_count": 28,
     "metadata": {},
     "output_type": "execute_result"
    }
   ],
   "source": [
    "np.std(AMZN['High']-AMZN['Low'])"
   ]
  },
  {
   "cell_type": "markdown",
   "metadata": {},
   "source": [
    "## Exercise 3\n",
    "\n",
    "* Historical data of shares in the chip maker __AMD__ (__A__dvanced __M__icro __D__evices) on the __NASDAQ Stock Exchange__ is available at \n",
    "\n",
    "    [__AMD NASDAQ Data__](https://www.nasdaq.com/market-activity/stocks/amd/historical) \n",
    "\n",
    "\n",
    "* Downlowad the historical data for the past month from this website. Import this data into __python__ as __AMD__ and repeat the steps of __Example 3__ for this data structure."
   ]
  },
  {
   "cell_type": "code",
   "execution_count": null,
   "metadata": {},
   "outputs": [],
   "source": []
  },
  {
   "cell_type": "code",
   "execution_count": null,
   "metadata": {},
   "outputs": [],
   "source": []
  },
  {
   "cell_type": "code",
   "execution_count": null,
   "metadata": {},
   "outputs": [],
   "source": []
  },
  {
   "cell_type": "code",
   "execution_count": null,
   "metadata": {},
   "outputs": [],
   "source": []
  },
  {
   "cell_type": "code",
   "execution_count": null,
   "metadata": {},
   "outputs": [],
   "source": []
  },
  {
   "cell_type": "code",
   "execution_count": null,
   "metadata": {},
   "outputs": [],
   "source": []
  },
  {
   "cell_type": "code",
   "execution_count": null,
   "metadata": {},
   "outputs": [],
   "source": []
  },
  {
   "cell_type": "code",
   "execution_count": null,
   "metadata": {},
   "outputs": [],
   "source": []
  },
  {
   "cell_type": "markdown",
   "metadata": {},
   "source": [
    "# Bar charts\n",
    "\n",
    "* During lectures we saw an example of a bar-chart for cars parked in a car park.\n",
    "\n",
    "* There are several ways to create a bar chart in python.\n",
    "\n",
    "## Example 4\n",
    "\n",
    "* The first method we use is the pandas command __DF.plot.bar()__, where __DF__ is a place holder name for any __data frame__\n",
    "\n",
    "\n",
    "* Since we have already created a data frame in __Example 1__ i.e. __EG1__ we will use this as our data frame in this example. \n",
    "\n",
    "* For convenince, we recall the data frame here:"
   ]
  },
  {
   "cell_type": "code",
   "execution_count": 29,
   "metadata": {},
   "outputs": [
    {
     "data": {
      "text/html": [
       "<div>\n",
       "<style scoped>\n",
       "    .dataframe tbody tr th:only-of-type {\n",
       "        vertical-align: middle;\n",
       "    }\n",
       "\n",
       "    .dataframe tbody tr th {\n",
       "        vertical-align: top;\n",
       "    }\n",
       "\n",
       "    .dataframe thead th {\n",
       "        text-align: right;\n",
       "    }\n",
       "</style>\n",
       "<table border=\"1\" class=\"dataframe\">\n",
       "  <thead>\n",
       "    <tr style=\"text-align: right;\">\n",
       "      <th></th>\n",
       "      <th>Make</th>\n",
       "      <th>Number</th>\n",
       "    </tr>\n",
       "  </thead>\n",
       "  <tbody>\n",
       "    <tr>\n",
       "      <th>0</th>\n",
       "      <td>Audi</td>\n",
       "      <td>3</td>\n",
       "    </tr>\n",
       "    <tr>\n",
       "      <th>1</th>\n",
       "      <td>BMW</td>\n",
       "      <td>2</td>\n",
       "    </tr>\n",
       "    <tr>\n",
       "      <th>2</th>\n",
       "      <td>Citroen</td>\n",
       "      <td>5</td>\n",
       "    </tr>\n",
       "    <tr>\n",
       "      <th>3</th>\n",
       "      <td>Ford</td>\n",
       "      <td>8</td>\n",
       "    </tr>\n",
       "    <tr>\n",
       "      <th>4</th>\n",
       "      <td>Hyundai</td>\n",
       "      <td>9</td>\n",
       "    </tr>\n",
       "    <tr>\n",
       "      <th>5</th>\n",
       "      <td>Opel</td>\n",
       "      <td>6</td>\n",
       "    </tr>\n",
       "    <tr>\n",
       "      <th>6</th>\n",
       "      <td>Toyota</td>\n",
       "      <td>8</td>\n",
       "    </tr>\n",
       "    <tr>\n",
       "      <th>7</th>\n",
       "      <td>VW</td>\n",
       "      <td>6</td>\n",
       "    </tr>\n",
       "  </tbody>\n",
       "</table>\n",
       "</div>"
      ],
      "text/plain": [
       "      Make  Number\n",
       "0     Audi       3\n",
       "1      BMW       2\n",
       "2  Citroen       5\n",
       "3     Ford       8\n",
       "4  Hyundai       9\n",
       "5     Opel       6\n",
       "6   Toyota       8\n",
       "7       VW       6"
      ]
     },
     "execution_count": 29,
     "metadata": {},
     "output_type": "execute_result"
    }
   ],
   "source": [
    "EG1"
   ]
  },
  {
   "cell_type": "markdown",
   "metadata": {},
   "source": [
    "* We plot this as follows"
   ]
  },
  {
   "cell_type": "code",
   "execution_count": 30,
   "metadata": {},
   "outputs": [
    {
     "data": {
      "text/plain": [
       "<AxesSubplot:xlabel='Make'>"
      ]
     },
     "execution_count": 30,
     "metadata": {},
     "output_type": "execute_result"
    },
    {
     "data": {
      "image/png": "[encoded data removed]",
      "text/plain": [
       "<Figure size 432x288 with 1 Axes>"
      ]
     },
     "metadata": {
      "needs_background": "light"
     },
     "output_type": "display_data"
    }
   ],
   "source": [
    "EG1.plot.bar(x='Make',y='Number',rot=30) # We use rot=30 to rotate the x labels by 30 drgrees. You can also rotate by negative angles."
   ]
  },
  {
   "cell_type": "markdown",
   "metadata": {},
   "source": [
    "* While this is a pretty decent bar chart we can do more with it to improve the appearance.\n",
    "\n",
    "\n",
    "* As we saw in lectures, ordering the __nominal__ data can make a big improvement to the appearance. We can do that as follows: \n",
    "\n",
    "    __1.__ First re-define __EG1__ so that it is sorted by __'Number'__"
   ]
  },
  {
   "cell_type": "code",
   "execution_count": 31,
   "metadata": {},
   "outputs": [],
   "source": [
    "EG1_D=EG1.sort_values(by='Number',ascending=False) # Largest to smallest. We use subscript D for Descending."
   ]
  },
  {
   "cell_type": "code",
   "execution_count": 32,
   "metadata": {},
   "outputs": [
    {
     "data": {
      "text/html": [
       "<div>\n",
       "<style scoped>\n",
       "    .dataframe tbody tr th:only-of-type {\n",
       "        vertical-align: middle;\n",
       "    }\n",
       "\n",
       "    .dataframe tbody tr th {\n",
       "        vertical-align: top;\n",
       "    }\n",
       "\n",
       "    .dataframe thead th {\n",
       "        text-align: right;\n",
       "    }\n",
       "</style>\n",
       "<table border=\"1\" class=\"dataframe\">\n",
       "  <thead>\n",
       "    <tr style=\"text-align: right;\">\n",
       "      <th></th>\n",
       "      <th>Make</th>\n",
       "      <th>Number</th>\n",
       "    </tr>\n",
       "  </thead>\n",
       "  <tbody>\n",
       "    <tr>\n",
       "      <th>4</th>\n",
       "      <td>Hyundai</td>\n",
       "      <td>9</td>\n",
       "    </tr>\n",
       "    <tr>\n",
       "      <th>3</th>\n",
       "      <td>Ford</td>\n",
       "      <td>8</td>\n",
       "    </tr>\n",
       "    <tr>\n",
       "      <th>6</th>\n",
       "      <td>Toyota</td>\n",
       "      <td>8</td>\n",
       "    </tr>\n",
       "    <tr>\n",
       "      <th>5</th>\n",
       "      <td>Opel</td>\n",
       "      <td>6</td>\n",
       "    </tr>\n",
       "    <tr>\n",
       "      <th>7</th>\n",
       "      <td>VW</td>\n",
       "      <td>6</td>\n",
       "    </tr>\n",
       "    <tr>\n",
       "      <th>2</th>\n",
       "      <td>Citroen</td>\n",
       "      <td>5</td>\n",
       "    </tr>\n",
       "    <tr>\n",
       "      <th>0</th>\n",
       "      <td>Audi</td>\n",
       "      <td>3</td>\n",
       "    </tr>\n",
       "    <tr>\n",
       "      <th>1</th>\n",
       "      <td>BMW</td>\n",
       "      <td>2</td>\n",
       "    </tr>\n",
       "  </tbody>\n",
       "</table>\n",
       "</div>"
      ],
      "text/plain": [
       "      Make  Number\n",
       "4  Hyundai       9\n",
       "3     Ford       8\n",
       "6   Toyota       8\n",
       "5     Opel       6\n",
       "7       VW       6\n",
       "2  Citroen       5\n",
       "0     Audi       3\n",
       "1      BMW       2"
      ]
     },
     "execution_count": 32,
     "metadata": {},
     "output_type": "execute_result"
    }
   ],
   "source": [
    "EG1_D"
   ]
  },
  {
   "cell_type": "code",
   "execution_count": 33,
   "metadata": {},
   "outputs": [],
   "source": [
    "EG1_A=EG1.sort_values(by='Number',ascending=True) # Smallest to largest. We use subscript A for Ascending."
   ]
  },
  {
   "cell_type": "code",
   "execution_count": 34,
   "metadata": {},
   "outputs": [
    {
     "data": {
      "text/html": [
       "<div>\n",
       "<style scoped>\n",
       "    .dataframe tbody tr th:only-of-type {\n",
       "        vertical-align: middle;\n",
       "    }\n",
       "\n",
       "    .dataframe tbody tr th {\n",
       "        vertical-align: top;\n",
       "    }\n",
       "\n",
       "    .dataframe thead th {\n",
       "        text-align: right;\n",
       "    }\n",
       "</style>\n",
       "<table border=\"1\" class=\"dataframe\">\n",
       "  <thead>\n",
       "    <tr style=\"text-align: right;\">\n",
       "      <th></th>\n",
       "      <th>Make</th>\n",
       "      <th>Number</th>\n",
       "    </tr>\n",
       "  </thead>\n",
       "  <tbody>\n",
       "    <tr>\n",
       "      <th>1</th>\n",
       "      <td>BMW</td>\n",
       "      <td>2</td>\n",
       "    </tr>\n",
       "    <tr>\n",
       "      <th>0</th>\n",
       "      <td>Audi</td>\n",
       "      <td>3</td>\n",
       "    </tr>\n",
       "    <tr>\n",
       "      <th>2</th>\n",
       "      <td>Citroen</td>\n",
       "      <td>5</td>\n",
       "    </tr>\n",
       "    <tr>\n",
       "      <th>5</th>\n",
       "      <td>Opel</td>\n",
       "      <td>6</td>\n",
       "    </tr>\n",
       "    <tr>\n",
       "      <th>7</th>\n",
       "      <td>VW</td>\n",
       "      <td>6</td>\n",
       "    </tr>\n",
       "    <tr>\n",
       "      <th>3</th>\n",
       "      <td>Ford</td>\n",
       "      <td>8</td>\n",
       "    </tr>\n",
       "    <tr>\n",
       "      <th>6</th>\n",
       "      <td>Toyota</td>\n",
       "      <td>8</td>\n",
       "    </tr>\n",
       "    <tr>\n",
       "      <th>4</th>\n",
       "      <td>Hyundai</td>\n",
       "      <td>9</td>\n",
       "    </tr>\n",
       "  </tbody>\n",
       "</table>\n",
       "</div>"
      ],
      "text/plain": [
       "      Make  Number\n",
       "1      BMW       2\n",
       "0     Audi       3\n",
       "2  Citroen       5\n",
       "5     Opel       6\n",
       "7       VW       6\n",
       "3     Ford       8\n",
       "6   Toyota       8\n",
       "4  Hyundai       9"
      ]
     },
     "execution_count": 34,
     "metadata": {},
     "output_type": "execute_result"
    }
   ],
   "source": [
    "EG1_A"
   ]
  },
  {
   "cell_type": "markdown",
   "metadata": {},
   "source": [
    "  \n",
    "   __2.__ The ordered barcharts for these data frames are now given by:"
   ]
  },
  {
   "cell_type": "code",
   "execution_count": 35,
   "metadata": {},
   "outputs": [
    {
     "data": {
      "text/plain": [
       "<AxesSubplot:xlabel='Make'>"
      ]
     },
     "execution_count": 35,
     "metadata": {},
     "output_type": "execute_result"
    },
    {
     "data": {
      "image/png": "[encoded data removed]",
      "text/plain": [
       "<Figure size 432x288 with 1 Axes>"
      ]
     },
     "metadata": {
      "needs_background": "light"
     },
     "output_type": "display_data"
    }
   ],
   "source": [
    "EG1_D.plot.bar(x='Make',y='Number',rot=30)"
   ]
  },
  {
   "cell_type": "code",
   "execution_count": 36,
   "metadata": {},
   "outputs": [
    {
     "data": {
      "text/plain": [
       "<AxesSubplot:xlabel='Make'>"
      ]
     },
     "execution_count": 36,
     "metadata": {},
     "output_type": "execute_result"
    },
    {
     "data": {
      "image/png": "[encoded data removed]",
      "text/plain": [
       "<Figure size 432x288 with 1 Axes>"
      ]
     },
     "metadata": {
      "needs_background": "light"
     },
     "output_type": "display_data"
    }
   ],
   "source": [
    "EG1_A.plot.bar(x='Make',y='Number',rot=30)"
   ]
  },
  {
   "cell_type": "markdown",
   "metadata": {},
   "source": [
    "### Removing the legend\n",
    "\n",
    "* We see each grap contains a legend, a blue rectangle beside Number.\n",
    "\n",
    "\n",
    "* Since this adds no useful information to these particular bar charts, we can remove it using __legned=False__"
   ]
  },
  {
   "cell_type": "code",
   "execution_count": 37,
   "metadata": {},
   "outputs": [
    {
     "data": {
      "text/plain": [
       "<AxesSubplot:xlabel='Make'>"
      ]
     },
     "execution_count": 37,
     "metadata": {},
     "output_type": "execute_result"
    },
    {
     "data": {
      "image/png": "[encoded data removed]",
      "text/plain": [
       "<Figure size 432x288 with 1 Axes>"
      ]
     },
     "metadata": {
      "needs_background": "light"
     },
     "output_type": "display_data"
    }
   ],
   "source": [
    "EG1_A.plot.bar(x='Make',y='Number',rot=30,legend=False)"
   ]
  },
  {
   "cell_type": "markdown",
   "metadata": {},
   "source": [
    "###  Chainginh the y-ticks\n",
    "\n",
    "* We see that the y-ticks in all the bar charts are increasing ini steps of 2, so it is difficult to estimate the frequency of each class just be looking.\n",
    "\n",
    "\n",
    "* We are going to create a sequence of y-ticks increasing in steps of 1, using the __numpy__ command __np.arange()__"
   ]
  },
  {
   "cell_type": "code",
   "execution_count": 38,
   "metadata": {},
   "outputs": [
    {
     "data": {
      "text/plain": [
       "array([0, 1, 2, 3, 4, 5, 6, 7, 8, 9])"
      ]
     },
     "execution_count": 38,
     "metadata": {},
     "output_type": "execute_result"
    }
   ],
   "source": [
    "y_tks=np.arange(0,10,1)\n",
    "y_tks"
   ]
  },
  {
   "cell_type": "markdown",
   "metadata": {},
   "source": [
    "* We call the lis of number y_tks, just to indicate what we use them for. We can call them anythin we want.\n",
    "\n",
    "\n",
    "* 0 will be the first tick, and 10 will be the last. These are the first two areguments of __arange()__ \n",
    "\n",
    "\n",
    "* The last argument indicates we use a step-size of 1 between succesive ticks.\n",
    "\n",
    "\n",
    "* __If__ we wanted ticks separate by steps of 4 0r even 0.5 we could use"
   ]
  },
  {
   "cell_type": "code",
   "execution_count": 39,
   "metadata": {},
   "outputs": [
    {
     "data": {
      "text/plain": [
       "array([0, 4, 8])"
      ]
     },
     "execution_count": 39,
     "metadata": {},
     "output_type": "execute_result"
    }
   ],
   "source": [
    "np.arange(0,10,4)"
   ]
  },
  {
   "cell_type": "code",
   "execution_count": 40,
   "metadata": {},
   "outputs": [
    {
     "data": {
      "text/plain": [
       "array([0. , 0.5, 1. , 1.5, 2. , 2.5, 3. , 3.5, 4. , 4.5, 5. , 5.5, 6. ,\n",
       "       6.5, 7. , 7.5, 8. , 8.5, 9. , 9.5])"
      ]
     },
     "execution_count": 40,
     "metadata": {},
     "output_type": "execute_result"
    }
   ],
   "source": [
    "np.arange(0,10,0.5)"
   ]
  },
  {
   "cell_type": "markdown",
   "metadata": {},
   "source": [
    "* Using thse ticks in the last plot gives:"
   ]
  },
  {
   "cell_type": "code",
   "execution_count": 41,
   "metadata": {},
   "outputs": [
    {
     "data": {
      "text/plain": [
       "<AxesSubplot:xlabel='Make'>"
      ]
     },
     "execution_count": 41,
     "metadata": {},
     "output_type": "execute_result"
    },
    {
     "data": {
      "image/png": "[encoded data removed]",
      "text/plain": [
       "<Figure size 432x288 with 1 Axes>"
      ]
     },
     "metadata": {
      "needs_background": "light"
     },
     "output_type": "display_data"
    }
   ],
   "source": [
    "EG1_A.plot.bar(x='Make',y='Number',rot=30,legend=False,yticks=y_tks)"
   ]
  },
  {
   "cell_type": "markdown",
   "metadata": {},
   "source": [
    "## Labels and titles\n",
    "\n",
    "* We see that the label of the x-axis is make, while the y-axis has no label at all. \n",
    "\n",
    "\n",
    "\n",
    "* We can change/add labels using the __matplotlib__ commands __plt.xlabel()__ and __plt.ylabel()__.\n",
    "\n",
    "\n",
    "\n",
    "* We are going to call our x-axis __Car Make__ and our y-axis __Frequency__.\n",
    "\n",
    "\n",
    "* We can also use the command __plt.title()__ to give the figure a title.\n",
    "\n",
    "\n",
    "* We are going to call it __Cars by mak counted in a carpark__."
   ]
  },
  {
   "cell_type": "code",
   "execution_count": 42,
   "metadata": {},
   "outputs": [
    {
     "data": {
      "text/plain": [
       "Text(0.5, 1.0, 'Cars by make counted in a carpark')"
      ]
     },
     "execution_count": 42,
     "metadata": {},
     "output_type": "execute_result"
    },
    {
     "data": {
      "image/png": "[encoded data removed]",
      "text/plain": [
       "<Figure size 432x288 with 1 Axes>"
      ]
     },
     "metadata": {
      "needs_background": "light"
     },
     "output_type": "display_data"
    }
   ],
   "source": [
    "EG1_A.plot.bar(x='Make',y='Number',rot=30,legend=False,yticks=y_tks)\n",
    "plt.xlabel('Car Make',size=12) # We use size=12 t oset th font size of this label\n",
    "plt.ylabel('Frequency',size=12)\n",
    "plt.title('Cars by make counted in a carpark',size=14)"
   ]
  },
  {
   "cell_type": "markdown",
   "metadata": {},
   "source": [
    "### Bar widths and colours\n",
    "\n",
    "* We can can change the bar-width using the option __width=__ inside the __plot.bar()__ command.\n",
    "\n",
    "\n",
    "* We can also change the colour of the bars using the option __color='colour name'__\n",
    "\n",
    "\n",
    "* A list of standard python colours is available at [__Named Python Colours__](https://matplotlib.org/examples/color/named_colors.html)\n",
    "\n",
    "\n",
    "* An extended list of colurs is available at [__XKCD Colours__](https://xkcd.com/color/rgb/)\n",
    "\n",
    "\n",
    "* When using __XKCD__ colours, use them with the syntax __colour='xkcd:colour name'__. Be carfule of spacing when using this syntax!!\n",
    "\n",
    "\n",
    "### Number of colurs\n",
    "\n",
    "* For a bar chart like this, one colour is sufficient, but if you want to change the colour of bars alternately you can use the syntax __color=['colour1','colour2']__ (switch between colours) or __color=['colour1','colour2',...,'colourN']__, gives a different colour for each bar. \n",
    "\n",
    "\n",
    "* We are going the change the colour of our bars to the __XKCD__ colour __forest green__.\n",
    "\n",
    "\n",
    "### Bar widths\n",
    "\n",
    "* The width of the bars can be changed using the command __width=__. The default value is 0.5 in all the charts above.\n",
    "\n",
    "\n",
    "* When changing the car with, you should not make it too big. It is standard practice to leave some room between the bars in a bar-chart. We will changethe width to 0.75."
   ]
  },
  {
   "cell_type": "code",
   "execution_count": 43,
   "metadata": {},
   "outputs": [
    {
     "data": {
      "text/plain": [
       "Text(0.5, 1.0, 'Cars by make counted in a carpark')"
      ]
     },
     "execution_count": 43,
     "metadata": {},
     "output_type": "execute_result"
    },
    {
     "data": {
      "image/png": "[encoded data removed]",
      "text/plain": [
       "<Figure size 432x288 with 1 Axes>"
      ]
     },
     "metadata": {
      "needs_background": "light"
     },
     "output_type": "display_data"
    }
   ],
   "source": [
    "EG1_A.plot.bar(x='Make',y='Number',rot=30,legend=False,yticks=y_tks,width=0.75,color='xkcd:forest green')\n",
    "plt.xlabel('Car Make',size=12) # We use size=12 t oset th font size of this label\n",
    "plt.ylabel('Frequency',size=12)\n",
    "plt.title('Cars by make counted in a carpark',size=14)"
   ]
  },
  {
   "cell_type": "markdown",
   "metadata": {},
   "source": [
    "### Figure size, plot style and saving figures.\n",
    "\n",
    "\n",
    "\n",
    "#### Changing the figure size\n",
    "\n",
    "\n",
    "* We can use the option __figsize=(h,v)__ at the begining of the plot to change the horizontal size __h__ and the vertical size __v__ (in inches) to any number we like.\n",
    "\n",
    "\n",
    "* It is usually best to try different values, however, some common photograph aspect ratios are 4:3, 3:2, 5:3, 5:4 and 1:1, so it might be best to try sizes with these proportions first. \n",
    "\n",
    "\n",
    "* For example __figsize=(12,9)__ has an aspect ratio of 4:3 i.e. (4,3)x3 inches.\n",
    "\n",
    "\n",
    "#### Changing the plot styles\n",
    "\n",
    "* There are numerous plot styles available iin __matplotlib__.\n",
    "\n",
    "\n",
    "* These styles change background appearances and other features of the plot automatically, and cen be useful depending on what context you are going to use the figure, e.g. in a poster, in a document, in a presentation etc.\n",
    "\n",
    "\n",
    "* A list of available style sheets is avaiable at [__Style Sheets__](https://matplotlib.org/3.2.1/gallery/style_sheets/style_sheets_reference.html)\n",
    "\n",
    "\n",
    "* We can alse see the name of the styles directly as follows"
   ]
  },
  {
   "cell_type": "code",
   "execution_count": 44,
   "metadata": {},
   "outputs": [
    {
     "name": "stdout",
     "output_type": "stream",
     "text": [
      "['Solarize_Light2', '_classic_test_patch', 'bmh', 'classic', 'dark_background', 'fast', 'fivethirtyeight', 'ggplot', 'grayscale', 'seaborn', 'seaborn-bright', 'seaborn-colorblind', 'seaborn-dark', 'seaborn-dark-palette', 'seaborn-darkgrid', 'seaborn-deep', 'seaborn-muted', 'seaborn-notebook', 'seaborn-paper', 'seaborn-pastel', 'seaborn-poster', 'seaborn-talk', 'seaborn-ticks', 'seaborn-white', 'seaborn-whitegrid', 'tableau-colorblind10']\n"
     ]
    }
   ],
   "source": [
    "print(plt.style.available)"
   ]
  },
  {
   "cell_type": "markdown",
   "metadata": {},
   "source": [
    "* We are going to change our figure size to __12x9 inches__, and use the __seaborn__ style sheet.\n",
    "\n",
    "\n",
    "* We are going to save the figure as __BarChart1.pdf__ using the command __plt.savefig()__ at the very end of the cell."
   ]
  },
  {
   "cell_type": "code",
   "execution_count": 46,
   "metadata": {},
   "outputs": [
    {
     "data": {
      "image/png": "[encoded data removed]",
      "text/plain": [
       "<Figure size 864x648 with 1 Axes>"
      ]
     },
     "metadata": {},
     "output_type": "display_data"
    }
   ],
   "source": [
    "EG1_A.plot.bar(x='Make',y='Number',rot=30,legend=False,yticks=y_tks,width=0.75,color='xkcd:forest green',figsize=(12,9))\n",
    "plt.xlabel('Car Make',size=12) # We use size=12 t oset th font size of this label\n",
    "plt.ylabel('Frequency',size=12)\n",
    "plt.title('Cars by make counted in a carpark',size=14)\n",
    "style.use('seaborn')\n",
    "plt.savefig('BarChart1.pdf') # This pdf is now in the same directory as this .ipynb notebook"
   ]
  },
  {
   "cell_type": "markdown",
   "metadata": {},
   "source": [
    "## Exercise 4\n",
    "\n",
    "* Open the lecture notes on Mooodle in __Moodle->Data Visualisation->Data Types & Representaions-Lecture2.pdf__\n",
    "\n",
    "\n",
    "* Create __.csv__ file for the data in __Example 4 - Page 2__ \n",
    "\n",
    "\n",
    "* Import this data into this workbook using pandas.\n",
    "\n",
    "\n",
    "* Create a bar cahrt for this data, following the steps outlined in __Example 4__.\n",
    "\n",
    "\n",
    "* You should try different values of each  option and function to create a plot of your own style.\n"
   ]
  },
  {
   "cell_type": "code",
   "execution_count": null,
   "metadata": {},
   "outputs": [],
   "source": []
  },
  {
   "cell_type": "code",
   "execution_count": null,
   "metadata": {},
   "outputs": [],
   "source": []
  },
  {
   "cell_type": "code",
   "execution_count": null,
   "metadata": {},
   "outputs": [],
   "source": []
  },
  {
   "cell_type": "code",
   "execution_count": null,
   "metadata": {},
   "outputs": [],
   "source": []
  },
  {
   "cell_type": "code",
   "execution_count": null,
   "metadata": {},
   "outputs": [],
   "source": []
  },
  {
   "cell_type": "code",
   "execution_count": null,
   "metadata": {},
   "outputs": [],
   "source": []
  },
  {
   "cell_type": "code",
   "execution_count": null,
   "metadata": {},
   "outputs": [],
   "source": []
  },
  {
   "cell_type": "code",
   "execution_count": null,
   "metadata": {},
   "outputs": [],
   "source": []
  }
 ],
 "metadata": {
  "kernelspec": {
   "display_name": "Python 3",
   "language": "python",
   "name": "python3"
  },
  "language_info": {
   "codemirror_mode": {
    "name": "ipython",
    "version": 3
   },
   "file_extension": ".py",
   "mimetype": "text/x-python",
   "name": "python",
   "nbconvert_exporter": "python",
   "pygments_lexer": "ipython3",
   "version": "3.6.9"
  }
 },
 "nbformat": 4,
 "nbformat_minor": 2
}
