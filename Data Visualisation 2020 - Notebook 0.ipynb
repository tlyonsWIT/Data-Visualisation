{
 "cells": [
  {
   "cell_type": "markdown",
   "metadata": {},
   "source": [
    "# Data Visualisation 2020 - Notebook 0\n",
    "\n",
    "\n",
    "## Introduction to the Jupyter environment"
   ]
  },
  {
   "cell_type": "markdown",
   "metadata": {},
   "source": [
    "# $\\S$ 1. Importing Libraries\n",
    "\n",
    "\n",
    "* There are several libraries we will use frequently in these workbooks throughout the semester. The most frequent ones are \n",
    "\n",
    "    __(1)__ __numpy__ (numerical python)\n",
    "\n",
    "    __(2)__ __matplotlib__ (for plotting)\n",
    "\n",
    "    __(3)__ __pandas__ (for importing and manipulating data sets)\n",
    "\n",
    "    __(4)__ __seaborn__ (nice data visulaisation tools built on matplotlib)\n",
    "    \n",
    "\n",
    "* We may import each of these with a particular name (or abbreviation) of our choosing. In this workbook they will be imported as follows:"
   ]
  },
  {
   "cell_type": "code",
   "execution_count": 1,
   "metadata": {},
   "outputs": [],
   "source": [
    "import numpy as np\n",
    "import matplotlib.pyplot as plt\n",
    "import pandas as pd\n",
    "import seaborn as sb"
   ]
  },
  {
   "cell_type": "markdown",
   "metadata": {},
   "source": [
    "# $\\S$ 2. Creating and Importing Data Files\n",
    "\n",
    "* In many of the practicals we will obtain data files from various sources and use __python__ to perform various tasks with this data.\n",
    "\n",
    "\n",
    "* We will also create our own data sets and import them into __python__\n",
    "\n",
    "\n",
    "* In most cases, the data files we create will be of __.csv__ type (__csv__ = __c__omma __s__eparated __v__alues).\n",
    "\n",
    "\n",
    "* These files are easily created in spread-sheet packages like __Excel__, __LibreOffice__ etc.\n",
    "\n",
    "\n",
    "* To __import__ these files we use the _pandas_ command __pd.read_csv('some_file_name.csv')__\n"
   ]
  },
  {
   "cell_type": "markdown",
   "metadata": {},
   "source": [
    "## Example 1\n",
    "\n",
    "\n",
    "The cars in a car-park were counted by make, with the following data collected\n",
    "\n",
    "|  Make  |  Number |\n",
    "|--------|---------|\n",
    "| Audi   |    3    |\n",
    "| BMW    |    2    |\n",
    "| Citroen|    5    |\n",
    "| Ford   |    8    |\n",
    "| Hyundai|    9    |\n",
    "| Opel   |    6    |\n",
    "| Toyota |    8    |\n",
    "| VW     |    6    |\n",
    "\n",
    "\n",
    "\n",
    "\n",
    "   **1.** Create a file to represent this data in __Excel__ and save this file with the extension __.csv__. Save this csv file in the same dierectory as this notebook, to make things slightly easier. \n",
    "\n",
    "   **2.** Import this data file  as __data_eg1__ into __python__ using the command __pd.read_csv()__\n"
   ]
  },
  {
   "cell_type": "markdown",
   "metadata": {},
   "source": [
    "### Solution\n",
    "\n",
    "\n",
    "__1.__ The data is created in Excel in the obvious way. __Make sure__ you save this excel file with the __.csv__ extension!! \n",
    "\n",
    "\n",
    "\n",
    "__2.__ The data is import using the Pandas command __read_csv()__ as follows:"
   ]
  },
  {
   "cell_type": "code",
   "execution_count": 2,
   "metadata": {},
   "outputs": [],
   "source": [
    "data_eg1=pd.read_csv('Example1.csv')"
   ]
  },
  {
   "cell_type": "markdown",
   "metadata": {},
   "source": [
    "* Thie has usd the pandas (pd) command __read_csv()__ to import the data from the file __Example1.csv__ and call this data set __data_eg1__.\n",
    "\n",
    "* To display this data set, simply call __data_eg1__ in a python cell, as follows"
   ]
  },
  {
   "cell_type": "code",
   "execution_count": 3,
   "metadata": {},
   "outputs": [
    {
     "data": {
      "text/html": [
       "<div>\n",
       "<style scoped>\n",
       "    .dataframe tbody tr th:only-of-type {\n",
       "        vertical-align: middle;\n",
       "    }\n",
       "\n",
       "    .dataframe tbody tr th {\n",
       "        vertical-align: top;\n",
       "    }\n",
       "\n",
       "    .dataframe thead th {\n",
       "        text-align: right;\n",
       "    }\n",
       "</style>\n",
       "<table border=\"1\" class=\"dataframe\">\n",
       "  <thead>\n",
       "    <tr style=\"text-align: right;\">\n",
       "      <th></th>\n",
       "      <th>Make</th>\n",
       "      <th>Number</th>\n",
       "    </tr>\n",
       "  </thead>\n",
       "  <tbody>\n",
       "    <tr>\n",
       "      <th>0</th>\n",
       "      <td>Audi</td>\n",
       "      <td>3</td>\n",
       "    </tr>\n",
       "    <tr>\n",
       "      <th>1</th>\n",
       "      <td>BMW</td>\n",
       "      <td>2</td>\n",
       "    </tr>\n",
       "    <tr>\n",
       "      <th>2</th>\n",
       "      <td>Citroen</td>\n",
       "      <td>5</td>\n",
       "    </tr>\n",
       "    <tr>\n",
       "      <th>3</th>\n",
       "      <td>Ford</td>\n",
       "      <td>8</td>\n",
       "    </tr>\n",
       "    <tr>\n",
       "      <th>4</th>\n",
       "      <td>Hyundai</td>\n",
       "      <td>9</td>\n",
       "    </tr>\n",
       "    <tr>\n",
       "      <th>5</th>\n",
       "      <td>Opel</td>\n",
       "      <td>6</td>\n",
       "    </tr>\n",
       "    <tr>\n",
       "      <th>6</th>\n",
       "      <td>Toyota</td>\n",
       "      <td>8</td>\n",
       "    </tr>\n",
       "    <tr>\n",
       "      <th>7</th>\n",
       "      <td>VW</td>\n",
       "      <td>6</td>\n",
       "    </tr>\n",
       "  </tbody>\n",
       "</table>\n",
       "</div>"
      ],
      "text/plain": [
       "      Make  Number\n",
       "0     Audi       3\n",
       "1      BMW       2\n",
       "2  Citroen       5\n",
       "3     Ford       8\n",
       "4  Hyundai       9\n",
       "5     Opel       6\n",
       "6   Toyota       8\n",
       "7       VW       6"
      ]
     },
     "execution_count": 3,
     "metadata": {},
     "output_type": "execute_result"
    }
   ],
   "source": [
    "data_eg1"
   ]
  },
  {
   "cell_type": "markdown",
   "metadata": {},
   "source": [
    "## Selecting individual columns & rows\n",
    "\n",
    "* We see that the data structure has two columns called __Make__ and __Number__. To display an individual column we use the following:"
   ]
  },
  {
   "cell_type": "code",
   "execution_count": null,
   "metadata": {},
   "outputs": [],
   "source": [
    "data_eg1['Make']"
   ]
  },
  {
   "cell_type": "code",
   "execution_count": null,
   "metadata": {},
   "outputs": [],
   "source": [
    "data_eg1['Number']"
   ]
  },
  {
   "cell_type": "markdown",
   "metadata": {},
   "source": [
    "* On the very left of the data structure above, we see that each row is numbered from __0__ to __7__ (python always starts counting from zero, so be careful with this).\n",
    "\n",
    "* We select an individual row using the command __.iloc__ (short for __i__ndex __loc__ation)"
   ]
  },
  {
   "cell_type": "code",
   "execution_count": null,
   "metadata": {},
   "outputs": [],
   "source": [
    "data_eg1.iloc[3]"
   ]
  },
  {
   "cell_type": "markdown",
   "metadata": {},
   "source": [
    "* As we can see this gives the fourth row of the data frame.\n",
    "\n",
    "\n",
    "* To select show rows _m_ to _n_ we use __.iloc[m:n]__. In this example we will show data rows 0 to 2 and 5 to 6 as follows: "
   ]
  },
  {
   "cell_type": "code",
   "execution_count": null,
   "metadata": {},
   "outputs": [],
   "source": [
    "data_eg1.iloc[0:3]"
   ]
  },
  {
   "cell_type": "code",
   "execution_count": null,
   "metadata": {},
   "outputs": [],
   "source": [
    "data_eg1.iloc[5:7]"
   ]
  },
  {
   "cell_type": "markdown",
   "metadata": {},
   "source": [
    "* We can also combine selections of rows and columns using __.iloc[rows, columns]__"
   ]
  },
  {
   "cell_type": "code",
   "execution_count": null,
   "metadata": {},
   "outputs": [],
   "source": [
    "data_eg1.iloc[5:7,0]"
   ]
  },
  {
   "cell_type": "markdown",
   "metadata": {},
   "source": [
    "* Here we have shown the third-last and second-last rows  of the first column."
   ]
  },
  {
   "cell_type": "markdown",
   "metadata": {},
   "source": [
    "## Exercise 1\n",
    "\n",
    "* The recent closing price of shares in __Ryanair__ on the Irish Stock Exchange __(ISEQ)__ for 5 consecutinve trading days, is shown below. \n",
    "\n",
    "__Ryanair Share Closing Price(€) ISEQ   (27 August 2020 - 2 September 2020)__\n",
    "\n",
    "|Date      |Close |\n",
    "|----------|------|\n",
    "|02/09/2020|11.735|\n",
    "|01/09/2020|11.775|\n",
    "|31/08/2020|12.085|\n",
    "|28/08/2020|12.675|\n",
    "|27/08/2020|12.765|\n",
    "\n",
    "\n",
    "__1.__ Create a __.csv__ file for this data.\n",
    "\n",
    "__2.__ Import the data from this file into __python__.\n",
    "\n",
    "__3.__ Display the data from the individual columns of this data structure.\n",
    "\n",
    "__4.__ Display the data from the first two rows of the second column."
   ]
  },
  {
   "cell_type": "code",
   "execution_count": null,
   "metadata": {},
   "outputs": [],
   "source": []
  },
  {
   "cell_type": "code",
   "execution_count": null,
   "metadata": {},
   "outputs": [],
   "source": []
  },
  {
   "cell_type": "code",
   "execution_count": null,
   "metadata": {},
   "outputs": [],
   "source": []
  },
  {
   "cell_type": "code",
   "execution_count": null,
   "metadata": {},
   "outputs": [],
   "source": []
  },
  {
   "cell_type": "code",
   "execution_count": null,
   "metadata": {},
   "outputs": [],
   "source": []
  },
  {
   "cell_type": "code",
   "execution_count": null,
   "metadata": {},
   "outputs": [],
   "source": []
  },
  {
   "cell_type": "code",
   "execution_count": null,
   "metadata": {},
   "outputs": [],
   "source": []
  },
  {
   "cell_type": "code",
   "execution_count": null,
   "metadata": {},
   "outputs": [],
   "source": []
  },
  {
   "cell_type": "markdown",
   "metadata": {},
   "source": [
    "# $\\S$ 3. Python functions acting on data sets\n",
    "\n",
    "* The main aim of this course is to find the best way to represent the information in a data set. For that reason, there will be a certain amount of mathematical work involved in this course, which we will cover using simple examples and simple data sets during lectures.\n",
    "\n",
    "\n",
    "* While the mathematics involved is not particularly difficult, when we use real-world data sets (which tend be large), the mathematics can become cumbersome and tedious and practically impossible to complete by hand.\n",
    "\n",
    "\n",
    "* __Python__  can automate a huge amount of this work for us for these larger data sets, and during the practicals we will try to implement some of the maths we learn during lectures to much larger (and more realistic) data sets.\n",
    "\n",
    "\n",
    "* Some of the familiar matematical functions we will be applying to data sets will be\n",
    "  \n",
    "    * __Mean__ (i.e.  __Average__)\n",
    "    \n",
    "    * __Median__ (i.e. __Middle__)\n",
    "    \n",
    "    * __Standard Deviation__ (i.e. __Spread__) \n",
    "    \n",
    "    \n",
    "\n",
    "* There will be others we encounter as we proceed, and they will be introduced in lectures and in these practicals during the semester."
   ]
  },
  {
   "cell_type": "markdown",
   "metadata": {},
   "source": [
    "## Example 2\n",
    "\n",
    "* Create a __numpy array__ to represent the data set\n",
    "\n",
    "\n",
    "$$S=\\{1,5,-32,1,1,4,33,6,-6,10,12,-15,22,3,3,-4,18,-19,2,-2,2,1\\}$$\n",
    "\n",
    "* Using this data structure answer the following:\n",
    "\n",
    "    __1.__ Find the __mean__ of $S$.\n",
    "  \n",
    "   __2.__ Find the __median__ of $S$.\n",
    "  \n",
    "   __3.__ Find the __standard deviation__ of $S^2$, where $S^2$ means each element of $S$ should be squared individually.\n",
    "  \n",
    "   __4.__ Find the __mean__ of $S^2+3S$.\n",
    "  \n",
    "   __5.__ Find the __median__ of $4S^2+S+4$.\n",
    "  \n",
    "   __6.__ Sort the data.\n",
    "  \n",
    "   __7.__ Find the nuber of data points.\n",
    "  \n",
    "   __8.__ Find the  sum of the data values.\n",
    "  \n",
    "   __9.__ Divide the result of __8.__ by the result from __7.__ and compare with the velue in __1.__\n",
    "  \n",
    "   __10.__ Does the result in __2.__ evenly splid the ordered data set in __6.__?"
   ]
  },
  {
   "cell_type": "markdown",
   "metadata": {},
   "source": [
    "### Solution\n",
    "\n",
    "* We create the actual data array using the nummpy command __array([])__ as follows (note the double brackets!!)"
   ]
  },
  {
   "cell_type": "code",
   "execution_count": null,
   "metadata": {},
   "outputs": [],
   "source": [
    "S=np.array([1,5,-32,1,1,4,33,6,-6,10,12,-15,22,3,3,-4,18,-19,2,-2,2,1])\n",
    "S"
   ]
  },
  {
   "cell_type": "markdown",
   "metadata": {},
   "source": [
    "__1.__ The mean is found using __np.mean()__"
   ]
  },
  {
   "cell_type": "code",
   "execution_count": null,
   "metadata": {},
   "outputs": [],
   "source": [
    "np.mean(S)"
   ]
  },
  {
   "cell_type": "markdown",
   "metadata": {},
   "source": [
    "__2.__ The median is found using __np.median()__"
   ]
  },
  {
   "cell_type": "code",
   "execution_count": null,
   "metadata": {},
   "outputs": [],
   "source": [
    "np.median(S)"
   ]
  },
  {
   "cell_type": "markdown",
   "metadata": {},
   "source": [
    "__3.__ In Python we use __*__ to denote multiplication and __**__ to denote a power. So $S^2$ is written in Python as "
   ]
  },
  {
   "cell_type": "code",
   "execution_count": null,
   "metadata": {},
   "outputs": [],
   "source": [
    "S**2"
   ]
  },
  {
   "cell_type": "markdown",
   "metadata": {},
   "source": [
    "* We see each individual element of $S$ has be squared.\n",
    "\n",
    "\n",
    "* The __standard deviaation__ of the ``squared set'' is found using __np.std()__"
   ]
  },
  {
   "cell_type": "code",
   "execution_count": null,
   "metadata": {},
   "outputs": [],
   "source": [
    "np.std(S**2)"
   ]
  },
  {
   "cell_type": "markdown",
   "metadata": {},
   "source": [
    "__4.__ This is just a combination of the results of the other three parts:"
   ]
  },
  {
   "cell_type": "code",
   "execution_count": null,
   "metadata": {},
   "outputs": [],
   "source": [
    "np.mean(S**2+3*S)"
   ]
  },
  {
   "cell_type": "markdown",
   "metadata": {},
   "source": [
    "__5.__ Again, this is a simple combination of the other functions we have encountered:"
   ]
  },
  {
   "cell_type": "code",
   "execution_count": null,
   "metadata": {},
   "outputs": [],
   "source": [
    "np.median(S**2+S+4)"
   ]
  },
  {
   "cell_type": "markdown",
   "metadata": {},
   "source": [
    "__6.__ We use the __np.sort()__ function to arrange the set $S$ in order of increasing values"
   ]
  },
  {
   "cell_type": "code",
   "execution_count": null,
   "metadata": {},
   "outputs": [],
   "source": [
    "np.sort(S)"
   ]
  },
  {
   "cell_type": "markdown",
   "metadata": {},
   "source": [
    "__7.__ We use __len()__ to count the number of data values in $S$ (i.e. it gives the __length__ of $S$)"
   ]
  },
  {
   "cell_type": "code",
   "execution_count": null,
   "metadata": {},
   "outputs": [],
   "source": [
    "len(S)"
   ]
  },
  {
   "cell_type": "markdown",
   "metadata": {},
   "source": [
    "__8.__ We use __sum()__ to add all the values in $S$"
   ]
  },
  {
   "cell_type": "code",
   "execution_count": null,
   "metadata": {},
   "outputs": [],
   "source": [
    "sum(S)"
   ]
  },
  {
   "cell_type": "markdown",
   "metadata": {},
   "source": [
    "__9.__ Carrying out the instructions we find"
   ]
  },
  {
   "cell_type": "code",
   "execution_count": null,
   "metadata": {},
   "outputs": [],
   "source": [
    "sum(S)/len(S)"
   ]
  },
  {
   "cell_type": "markdown",
   "metadata": {},
   "source": [
    "* This agrees with the mean found in part __1.__, as it should!"
   ]
  },
  {
   "cell_type": "markdown",
   "metadata": {},
   "source": [
    "__10.__ In the sorted data set in part __6.__, we see that half the data values are less than 2 and half the values are greater than 2, so it appears 2 is indeed the median of the data set. "
   ]
  },
  {
   "cell_type": "markdown",
   "metadata": {},
   "source": [
    "### Exercise 3\n",
    "\n",
    "The historical price data of shares in __Amazon__ on the NASDAQ Stock Exchange, from __3 August 2020 - 1 September 2020__, is available at \n",
    "\n",
    "[__Amazon NASDAQ Price__](https://www.nasdaq.com/symbol/amzn/historical), \n",
    "\n",
    "and can be downloaded as a __.csv__ file from __Moodle->Data Visualisation->Data Files->AMZN.csv__.\n",
    "\n",
    "\n",
    "\n",
    "* Extract the __Close__, __Open__, __High__ and __Low__ data and answer the following:\n",
    "\n",
    "\n",
    "   __1.__ Find the mean closing price of the shares over this period, i.e. find the mean of __Close__\n",
    "\n",
    "\n",
    "   __2.__ Find the median difference between the opening and closing values, i.e. the mean of ( __Close__ - __Open__ )\n",
    "\n",
    "\n",
    "   __3.__ Find the standard deviation of __High__ \n",
    "\n",
    "\n",
    "   __4.__ Find the mean, median and standard deviation of ( __High__ - __Low__ )"
   ]
  },
  {
   "cell_type": "code",
   "execution_count": null,
   "metadata": {},
   "outputs": [],
   "source": []
  },
  {
   "cell_type": "code",
   "execution_count": null,
   "metadata": {},
   "outputs": [],
   "source": []
  },
  {
   "cell_type": "code",
   "execution_count": null,
   "metadata": {},
   "outputs": [],
   "source": []
  },
  {
   "cell_type": "code",
   "execution_count": null,
   "metadata": {},
   "outputs": [],
   "source": []
  },
  {
   "cell_type": "code",
   "execution_count": null,
   "metadata": {},
   "outputs": [],
   "source": []
  },
  {
   "cell_type": "code",
   "execution_count": null,
   "metadata": {},
   "outputs": [],
   "source": []
  },
  {
   "cell_type": "code",
   "execution_count": null,
   "metadata": {},
   "outputs": [],
   "source": []
  },
  {
   "cell_type": "code",
   "execution_count": null,
   "metadata": {},
   "outputs": [],
   "source": []
  },
  {
   "cell_type": "markdown",
   "metadata": {},
   "source": [
    "### Exercise 4\n",
    "\n",
    "* Historical data of shares in the chip maker __AMD__ (__A__dvanced __M__icro __D__evices) on the __NASDAQ Stock Exchange__ is available at \n",
    "\n",
    "    [__AMD NASDAQ Data__](https://www.nasdaq.com/market-activity/stocks/amd/historical) \n",
    "\n",
    "\n",
    "* Downlowad the historical data for the past month from this website. Import this data into __python__ as __AMD__ and repeat the steps of __Exercise 3__ for this data structure."
   ]
  },
  {
   "cell_type": "code",
   "execution_count": null,
   "metadata": {},
   "outputs": [],
   "source": []
  },
  {
   "cell_type": "code",
   "execution_count": null,
   "metadata": {},
   "outputs": [],
   "source": []
  },
  {
   "cell_type": "code",
   "execution_count": null,
   "metadata": {},
   "outputs": [],
   "source": []
  },
  {
   "cell_type": "code",
   "execution_count": null,
   "metadata": {},
   "outputs": [],
   "source": []
  },
  {
   "cell_type": "code",
   "execution_count": null,
   "metadata": {},
   "outputs": [],
   "source": []
  },
  {
   "cell_type": "code",
   "execution_count": null,
   "metadata": {},
   "outputs": [],
   "source": []
  },
  {
   "cell_type": "code",
   "execution_count": null,
   "metadata": {},
   "outputs": [],
   "source": []
  },
  {
   "cell_type": "code",
   "execution_count": null,
   "metadata": {},
   "outputs": [],
   "source": []
  }
 ],
 "metadata": {
  "kernelspec": {
   "display_name": "Python 3",
   "language": "python",
   "name": "python3"
  },
  "language_info": {
   "codemirror_mode": {
    "name": "ipython",
    "version": 3
   },
   "file_extension": ".py",
   "mimetype": "text/x-python",
   "name": "python",
   "nbconvert_exporter": "python",
   "pygments_lexer": "ipython3",
   "version": "3.6.9"
  }
 },
 "nbformat": 4,
 "nbformat_minor": 2
}
