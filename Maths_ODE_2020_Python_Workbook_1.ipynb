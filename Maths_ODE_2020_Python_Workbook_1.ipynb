{
  "nbformat": 4,
  "nbformat_minor": 0,
  "metadata": {
    "colab": {
      "name": "Maths ODE 2020 - Python Workbook 1.ipynb",
      "provenance": [],
      "collapsed_sections": [],
      "authorship_tag": "ABX9TyO9o05dcUecC/4WWSYc/KAD",
      "include_colab_link": true
    },
    "kernelspec": {
      "name": "python3",
      "display_name": "Python 3"
    }
  },
  "cells": [
    {
      "cell_type": "markdown",
      "metadata": {
        "id": "view-in-github",
        "colab_type": "text"
      },
      "source": [
        "<a href=\"https://colab.research.google.com/github/tlyonsWIT/Data-Visualisation/blob/master/Maths_ODE_2020_Python_Workbook_1.ipynb\" target=\"_parent\"><img src=\"https://colab.research.google.com/assets/colab-badge.svg\" alt=\"Open In Colab\"/></a>"
      ]
    },
    {
      "cell_type": "markdown",
      "metadata": {
        "id": "Ow_wQcUfjWCQ"
      },
      "source": [
        "# ODE 2020 - Python Workbook 1\n",
        "\n",
        "## Solutions of Homogenous Systems\n",
        "\n",
        "\n",
        "### Importing Libraries\n",
        "\n",
        "\n",
        "* For this workbook we will only need the __Sym__bolic __Py__thon __(sympy)__ library.\n",
        "\n",
        "* We import this library as follows:"
      ]
    },
    {
      "cell_type": "code",
      "metadata": {
        "id": "IcAfxTaQj3QD"
      },
      "source": [
        "from sympy import * \n",
        "from sympy import init_printing # For nice output of answers\n",
        "init_printing() # Activate init_printing for th workbook"
      ],
      "execution_count": 26,
      "outputs": []
    },
    {
      "cell_type": "markdown",
      "metadata": {
        "id": "NLfnWcwGkVtV"
      },
      "source": [
        "## General Solutions of an Homogeneous ODE\n",
        "\n",
        "\n",
        " We have seen during lectures that the __genreral solution__ of the __ODE__\n",
        "\n",
        "$$\\frac{dy}{dx}+p(x)y=0$$ \n",
        "\n",
        " is given by\n",
        "\n",
        "$$y(x)=Ae^{-\\int p(x)dx},$$\n",
        "\n",
        " where $A$ is an arbitrary constant.\n",
        "\n",
        "\n",
        "\n",
        "\n",
        " ## Lecture Notes 1 - Example 1\n",
        "\n",
        "\n",
        "\n",
        " * Find the general solution of the homogeneous __ODE__\n",
        "\n",
        "\n",
        " $$\\frac{dy}{dx}+\\frac{y}{4x^2}=0.$$"
      ]
    },
    {
      "cell_type": "markdown",
      "metadata": {
        "id": "aIefOp_UlWQZ"
      },
      "source": [
        "### Step 1\n",
        "\n",
        "* Declare symbols for $x$ and $A$."
      ]
    },
    {
      "cell_type": "code",
      "metadata": {
        "id": "3yXk0ajykHb8"
      },
      "source": [
        "A,x=symbols('A x')"
      ],
      "execution_count": 27,
      "outputs": []
    },
    {
      "cell_type": "code",
      "metadata": {
        "id": "zRDqTEUMlhxr",
        "outputId": "82fd64bf-a034-4cd3-f74b-8b88a400c572",
        "colab": {
          "base_uri": "https://localhost:8080/",
          "height": 38
        }
      },
      "source": [
        "A,x"
      ],
      "execution_count": 28,
      "outputs": [
        {
          "output_type": "execute_result",
          "data": {
            "image/png": "[encoded data removed]",
            "text/latex": "$$\\left ( A, \\quad x\\right )$$",
            "text/plain": [
              "(A, x)"
            ]
          },
          "metadata": {
            "tags": []
          },
          "execution_count": 28
        }
      ]
    },
    {
      "cell_type": "markdown",
      "metadata": {
        "id": "dBNbvviElpTy"
      },
      "source": [
        "### Step 2:\n",
        "\n",
        "* Define $p(x)$"
      ]
    },
    {
      "cell_type": "code",
      "metadata": {
        "id": "BlPJFGDwljFu"
      },
      "source": [
        "p=1/x**2/4"
      ],
      "execution_count": 29,
      "outputs": []
    },
    {
      "cell_type": "code",
      "metadata": {
        "id": "N71jK94Wlv3h",
        "outputId": "50727dd4-9b28-4b0a-d6f4-008cde02c90c",
        "colab": {
          "base_uri": "https://localhost:8080/",
          "height": 39
        }
      },
      "source": [
        "p"
      ],
      "execution_count": 30,
      "outputs": [
        {
          "output_type": "execute_result",
          "data": {
            "image/png": "[encoded data removed]",
            "text/latex": "$$\\frac{1}{4 x^{2}}$$",
            "text/plain": [
              " 1  \n",
              "────\n",
              "   2\n",
              "4⋅x "
            ]
          },
          "metadata": {
            "tags": []
          },
          "execution_count": 30
        }
      ]
    },
    {
      "cell_type": "markdown",
      "metadata": {
        "id": "gAi4breJly2h"
      },
      "source": [
        "### Step 3\n",
        "\n",
        "* Integrate $p(x)$"
      ]
    },
    {
      "cell_type": "code",
      "metadata": {
        "id": "9nou_niBlwww"
      },
      "source": [
        "Ip=integrate(p,x)"
      ],
      "execution_count": 31,
      "outputs": []
    },
    {
      "cell_type": "code",
      "metadata": {
        "id": "8ixcoQ1ll_Go",
        "outputId": "76078b39-789b-4e2c-a657-98e983d5386f",
        "colab": {
          "base_uri": "https://localhost:8080/",
          "height": 39
        }
      },
      "source": [
        "Ip"
      ],
      "execution_count": 32,
      "outputs": [
        {
          "output_type": "execute_result",
          "data": {
            "image/png": "[encoded data removed]",
            "text/latex": "$$- \\frac{1}{4 x}$$",
            "text/plain": [
              "-1 \n",
              "───\n",
              "4⋅x"
            ]
          },
          "metadata": {
            "tags": []
          },
          "execution_count": 32
        }
      ]
    },
    {
      "cell_type": "markdown",
      "metadata": {
        "id": "KPuG14slmCus"
      },
      "source": [
        "### Step 4\n",
        "\n",
        "* Write out the solution $y(x)=A\\exp(-\\int p(x)dx)$."
      ]
    },
    {
      "cell_type": "code",
      "metadata": {
        "id": "_0_yrjRRmCEc"
      },
      "source": [
        "y=A*exp(-Ip)"
      ],
      "execution_count": 33,
      "outputs": []
    },
    {
      "cell_type": "code",
      "metadata": {
        "id": "dIxAI1I1l_79",
        "outputId": "49945c5d-7e68-4d44-83d1-a5e76ba56825",
        "colab": {
          "base_uri": "https://localhost:8080/",
          "height": 39
        }
      },
      "source": [
        "y"
      ],
      "execution_count": 34,
      "outputs": [
        {
          "output_type": "execute_result",
          "data": {
            "image/png": "[encoded data removed]",
            "text/latex": "$$A e^{\\frac{1}{4 x}}$$",
            "text/plain": [
              "    1 \n",
              "   ───\n",
              "   4⋅x\n",
              "A⋅ℯ   "
            ]
          },
          "metadata": {
            "tags": []
          },
          "execution_count": 34
        }
      ]
    },
    {
      "cell_type": "markdown",
      "metadata": {
        "id": "nZdVcQrqmXbC"
      },
      "source": [
        "### Confirm the Solution\n",
        "\n",
        "* Sub this function back into the __ODE__"
      ]
    },
    {
      "cell_type": "code",
      "metadata": {
        "id": "Ixl2czo1mSry",
        "outputId": "8d094f4f-0c7c-49cf-ee69-3317f0964ec8",
        "colab": {
          "base_uri": "https://localhost:8080/",
          "height": 35
        }
      },
      "source": [
        "diff(y,x)+p*y==0 # The double == is used to ask if left=right in python."
      ],
      "execution_count": 35,
      "outputs": [
        {
          "output_type": "execute_result",
          "data": {
            "text/plain": [
              "True"
            ]
          },
          "metadata": {
            "tags": []
          },
          "execution_count": 35
        }
      ]
    },
    {
      "cell_type": "markdown",
      "metadata": {
        "id": "vmaT0C5smnx4"
      },
      "source": [
        "* We see that $\\frac{dy}{dx}+p(x)y=0$ where $y$ and $p$ are defined above, so $y$ is indeed a solution!"
      ]
    },
    {
      "cell_type": "code",
      "metadata": {
        "id": "omYS8pLJmjd5"
      },
      "source": [
        ""
      ],
      "execution_count": 35,
      "outputs": []
    }
  ]
}